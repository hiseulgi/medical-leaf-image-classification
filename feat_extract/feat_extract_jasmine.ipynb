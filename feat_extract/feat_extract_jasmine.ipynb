{
 "cells": [
  {
   "cell_type": "code",
   "execution_count": 2,
   "metadata": {},
   "outputs": [],
   "source": [
    "from skimage.io import imshow, imread\n",
    "from skimage.color import rgb2gray\n",
    "from skimage.filters import threshold_otsu\n",
    "from skimage.morphology import closing\n",
    "from skimage.measure import label, regionprops, regionprops_table\n",
    "from sklearn.ensemble import GradientBoostingClassifier,RandomForestClassifier\n",
    "from sklearn.model_selection import train_test_split\n",
    "from sklearn.metrics import classification_report\n",
    "from matplotlib import pyplot as plt\n",
    "import pandas as pd\n",
    "import numpy as np\n",
    "from tqdm import tqdm\n",
    "import os"
   ]
  },
  {
   "cell_type": "code",
   "execution_count": 3,
   "metadata": {},
   "outputs": [
    {
     "data": {
      "text/plain": [
       "<matplotlib.image.AxesImage at 0x2d2918fc070>"
      ]
     },
     "execution_count": 3,
     "metadata": {},
     "output_type": "execute_result"
    },
    {
     "data": {
      "image/png": "[encoded data removed]",
      "text/plain": [
       "<Figure size 432x288 with 1 Axes>"
      ]
     },
     "metadata": {
      "needs_background": "light"
     },
     "output_type": "display_data"
    }
   ],
   "source": [
    "# get the filenames of the leaves under the directory “Leaves”\n",
    "image_path_list = os.listdir(\"input/Melati\")\n",
    "# looking at the first image\n",
    "i = 1\n",
    "image_path = image_path_list[i]\n",
    "image = rgb2gray(imread(\"input/Melati/\"+image_path))\n",
    "imshow(image)"
   ]
  },
  {
   "cell_type": "code",
   "execution_count": 4,
   "metadata": {},
   "outputs": [
    {
     "name": "stderr",
     "output_type": "stream",
     "text": [
      "c:\\Users\\Bagus\\anaconda3\\lib\\site-packages\\skimage\\io\\_plugins\\matplotlib_plugin.py:150: UserWarning: Low image data range; displaying image with stretched contrast.\n",
      "  lo, hi, cmap = _get_display_range(image)\n"
     ]
    },
    {
     "data": {
      "text/plain": [
       "<matplotlib.image.AxesImage at 0x2d29508d6a0>"
      ]
     },
     "execution_count": 4,
     "metadata": {},
     "output_type": "execute_result"
    },
    {
     "data": {
      "image/png": "[encoded data removed]",
      "text/plain": [
       "<Figure size 432x288 with 2 Axes>"
      ]
     },
     "metadata": {
      "needs_background": "light"
     },
     "output_type": "display_data"
    }
   ],
   "source": [
    "label_img = label(image)\n",
    "imshow(label_img)"
   ]
  },
  {
   "cell_type": "code",
   "execution_count": 5,
   "metadata": {},
   "outputs": [
    {
     "data": {
      "text/html": [
       "<div>\n",
       "<style scoped>\n",
       "    .dataframe tbody tr th:only-of-type {\n",
       "        vertical-align: middle;\n",
       "    }\n",
       "\n",
       "    .dataframe tbody tr th {\n",
       "        vertical-align: top;\n",
       "    }\n",
       "\n",
       "    .dataframe thead th {\n",
       "        text-align: right;\n",
       "    }\n",
       "</style>\n",
       "<table border=\"1\" class=\"dataframe\">\n",
       "  <thead>\n",
       "    <tr style=\"text-align: right;\">\n",
       "      <th></th>\n",
       "      <th>convex_area</th>\n",
       "      <th>area</th>\n",
       "      <th>eccentricity</th>\n",
       "      <th>extent</th>\n",
       "      <th>inertia_tensor-0-0</th>\n",
       "      <th>inertia_tensor-0-1</th>\n",
       "      <th>inertia_tensor-1-0</th>\n",
       "      <th>inertia_tensor-1-1</th>\n",
       "      <th>major_axis_length</th>\n",
       "      <th>minor_axis_length</th>\n",
       "      <th>convex_ratio</th>\n",
       "      <th>label</th>\n",
       "    </tr>\n",
       "  </thead>\n",
       "  <tbody>\n",
       "    <tr>\n",
       "      <th>0</th>\n",
       "      <td>730739</td>\n",
       "      <td>720353</td>\n",
       "      <td>0.499174</td>\n",
       "      <td>0.742961</td>\n",
       "      <td>52542.807574</td>\n",
       "      <td>-6123.912186</td>\n",
       "      <td>-6123.912186</td>\n",
       "      <td>63654.202559</td>\n",
       "      <td>1030.471768</td>\n",
       "      <td>892.905425</td>\n",
       "      <td>0.985787</td>\n",
       "      <td>J-S-002.png</td>\n",
       "    </tr>\n",
       "  </tbody>\n",
       "</table>\n",
       "</div>"
      ],
      "text/plain": [
       "   convex_area    area  eccentricity    extent  inertia_tensor-0-0  \\\n",
       "0       730739  720353      0.499174  0.742961        52542.807574   \n",
       "\n",
       "   inertia_tensor-0-1  inertia_tensor-1-0  inertia_tensor-1-1  \\\n",
       "0        -6123.912186        -6123.912186        63654.202559   \n",
       "\n",
       "   major_axis_length  minor_axis_length  convex_ratio        label  \n",
       "0        1030.471768         892.905425      0.985787  J-S-002.png  "
      ]
     },
     "execution_count": 5,
     "metadata": {},
     "output_type": "execute_result"
    }
   ],
   "source": [
    "table = pd.DataFrame(regionprops_table(label_img, image,\n",
    "                                       ['convex_area', 'area',\n",
    "                                        'eccentricity', 'extent',                   \n",
    "                                        'inertia_tensor',\n",
    "                                        'major_axis_length', \n",
    "                                        'minor_axis_length']))\n",
    "table['convex_ratio'] = table['area']/table['convex_area']\n",
    "table['label'] = image_path[:]\n",
    "table"
   ]
  },
  {
   "cell_type": "code",
   "execution_count": 7,
   "metadata": {
    "scrolled": false
   },
   "outputs": [
    {
     "data": {
      "text/html": [
       "<div>\n",
       "<style scoped>\n",
       "    .dataframe tbody tr th:only-of-type {\n",
       "        vertical-align: middle;\n",
       "    }\n",
       "\n",
       "    .dataframe tbody tr th {\n",
       "        vertical-align: top;\n",
       "    }\n",
       "\n",
       "    .dataframe thead th {\n",
       "        text-align: right;\n",
       "    }\n",
       "</style>\n",
       "<table border=\"1\" class=\"dataframe\">\n",
       "  <thead>\n",
       "    <tr style=\"text-align: right;\">\n",
       "      <th></th>\n",
       "      <th>area</th>\n",
       "      <th>eccentricity</th>\n",
       "      <th>major_axis_length</th>\n",
       "      <th>minor_axis_length</th>\n",
       "      <th>label</th>\n",
       "    </tr>\n",
       "  </thead>\n",
       "  <tbody>\n",
       "    <tr>\n",
       "      <th>0</th>\n",
       "      <td>785135</td>\n",
       "      <td>0.625901</td>\n",
       "      <td>1139.782832</td>\n",
       "      <td>888.919581</td>\n",
       "      <td>J</td>\n",
       "    </tr>\n",
       "    <tr>\n",
       "      <th>1</th>\n",
       "      <td>720353</td>\n",
       "      <td>0.499174</td>\n",
       "      <td>1030.471768</td>\n",
       "      <td>892.905425</td>\n",
       "      <td>J</td>\n",
       "    </tr>\n",
       "    <tr>\n",
       "      <th>2</th>\n",
       "      <td>612151</td>\n",
       "      <td>0.635030</td>\n",
       "      <td>1011.203449</td>\n",
       "      <td>781.141730</td>\n",
       "      <td>J</td>\n",
       "    </tr>\n",
       "    <tr>\n",
       "      <th>3</th>\n",
       "      <td>622521</td>\n",
       "      <td>0.461559</td>\n",
       "      <td>955.273824</td>\n",
       "      <td>847.432574</td>\n",
       "      <td>J</td>\n",
       "    </tr>\n",
       "    <tr>\n",
       "      <th>4</th>\n",
       "      <td>624444</td>\n",
       "      <td>0.644741</td>\n",
       "      <td>1029.796622</td>\n",
       "      <td>787.177306</td>\n",
       "      <td>J</td>\n",
       "    </tr>\n",
       "    <tr>\n",
       "      <th>5</th>\n",
       "      <td>688069</td>\n",
       "      <td>0.572260</td>\n",
       "      <td>1038.140045</td>\n",
       "      <td>851.349636</td>\n",
       "      <td>J</td>\n",
       "    </tr>\n",
       "    <tr>\n",
       "      <th>6</th>\n",
       "      <td>895173</td>\n",
       "      <td>0.729320</td>\n",
       "      <td>1297.334495</td>\n",
       "      <td>887.600846</td>\n",
       "      <td>J</td>\n",
       "    </tr>\n",
       "    <tr>\n",
       "      <th>7</th>\n",
       "      <td>794186</td>\n",
       "      <td>0.631428</td>\n",
       "      <td>1152.303058</td>\n",
       "      <td>893.535598</td>\n",
       "      <td>J</td>\n",
       "    </tr>\n",
       "    <tr>\n",
       "      <th>8</th>\n",
       "      <td>583727</td>\n",
       "      <td>0.510992</td>\n",
       "      <td>935.052433</td>\n",
       "      <td>803.757495</td>\n",
       "      <td>J</td>\n",
       "    </tr>\n",
       "    <tr>\n",
       "      <th>9</th>\n",
       "      <td>801812</td>\n",
       "      <td>0.344402</td>\n",
       "      <td>1048.294471</td>\n",
       "      <td>984.162261</td>\n",
       "      <td>J</td>\n",
       "    </tr>\n",
       "    <tr>\n",
       "      <th>10</th>\n",
       "      <td>695987</td>\n",
       "      <td>0.449840</td>\n",
       "      <td>1008.478441</td>\n",
       "      <td>900.681471</td>\n",
       "      <td>J</td>\n",
       "    </tr>\n",
       "    <tr>\n",
       "      <th>11</th>\n",
       "      <td>706115</td>\n",
       "      <td>0.493542</td>\n",
       "      <td>1018.779092</td>\n",
       "      <td>886.054331</td>\n",
       "      <td>J</td>\n",
       "    </tr>\n",
       "    <tr>\n",
       "      <th>12</th>\n",
       "      <td>633341</td>\n",
       "      <td>0.252654</td>\n",
       "      <td>930.866969</td>\n",
       "      <td>900.666641</td>\n",
       "      <td>J</td>\n",
       "    </tr>\n",
       "    <tr>\n",
       "      <th>13</th>\n",
       "      <td>867358</td>\n",
       "      <td>0.480959</td>\n",
       "      <td>1133.272289</td>\n",
       "      <td>993.588388</td>\n",
       "      <td>J</td>\n",
       "    </tr>\n",
       "    <tr>\n",
       "      <th>14</th>\n",
       "      <td>675467</td>\n",
       "      <td>0.443197</td>\n",
       "      <td>987.758810</td>\n",
       "      <td>885.450896</td>\n",
       "      <td>J</td>\n",
       "    </tr>\n",
       "    <tr>\n",
       "      <th>15</th>\n",
       "      <td>701433</td>\n",
       "      <td>0.474634</td>\n",
       "      <td>1011.271268</td>\n",
       "      <td>890.104270</td>\n",
       "      <td>J</td>\n",
       "    </tr>\n",
       "    <tr>\n",
       "      <th>16</th>\n",
       "      <td>763633</td>\n",
       "      <td>0.393296</td>\n",
       "      <td>1037.761195</td>\n",
       "      <td>954.130056</td>\n",
       "      <td>J</td>\n",
       "    </tr>\n",
       "    <tr>\n",
       "      <th>17</th>\n",
       "      <td>713769</td>\n",
       "      <td>0.531037</td>\n",
       "      <td>1049.073816</td>\n",
       "      <td>888.930978</td>\n",
       "      <td>J</td>\n",
       "    </tr>\n",
       "    <tr>\n",
       "      <th>18</th>\n",
       "      <td>669946</td>\n",
       "      <td>0.583767</td>\n",
       "      <td>1030.810954</td>\n",
       "      <td>836.937657</td>\n",
       "      <td>J</td>\n",
       "    </tr>\n",
       "    <tr>\n",
       "      <th>19</th>\n",
       "      <td>735021</td>\n",
       "      <td>0.330539</td>\n",
       "      <td>1005.098357</td>\n",
       "      <td>948.603964</td>\n",
       "      <td>J</td>\n",
       "    </tr>\n",
       "    <tr>\n",
       "      <th>20</th>\n",
       "      <td>709185</td>\n",
       "      <td>0.374013</td>\n",
       "      <td>994.639340</td>\n",
       "      <td>922.451668</td>\n",
       "      <td>J</td>\n",
       "    </tr>\n",
       "    <tr>\n",
       "      <th>21</th>\n",
       "      <td>618901</td>\n",
       "      <td>0.543036</td>\n",
       "      <td>974.551774</td>\n",
       "      <td>818.340310</td>\n",
       "      <td>J</td>\n",
       "    </tr>\n",
       "    <tr>\n",
       "      <th>22</th>\n",
       "      <td>764079</td>\n",
       "      <td>0.553152</td>\n",
       "      <td>1088.894082</td>\n",
       "      <td>907.135918</td>\n",
       "      <td>J</td>\n",
       "    </tr>\n",
       "    <tr>\n",
       "      <th>23</th>\n",
       "      <td>708955</td>\n",
       "      <td>0.593757</td>\n",
       "      <td>1069.898790</td>\n",
       "      <td>860.888130</td>\n",
       "      <td>J</td>\n",
       "    </tr>\n",
       "    <tr>\n",
       "      <th>24</th>\n",
       "      <td>706176</td>\n",
       "      <td>0.692465</td>\n",
       "      <td>1127.237261</td>\n",
       "      <td>813.247420</td>\n",
       "      <td>J</td>\n",
       "    </tr>\n",
       "  </tbody>\n",
       "</table>\n",
       "</div>"
      ],
      "text/plain": [
       "      area  eccentricity  major_axis_length  minor_axis_length label\n",
       "0   785135      0.625901        1139.782832         888.919581     J\n",
       "1   720353      0.499174        1030.471768         892.905425     J\n",
       "2   612151      0.635030        1011.203449         781.141730     J\n",
       "3   622521      0.461559         955.273824         847.432574     J\n",
       "4   624444      0.644741        1029.796622         787.177306     J\n",
       "5   688069      0.572260        1038.140045         851.349636     J\n",
       "6   895173      0.729320        1297.334495         887.600846     J\n",
       "7   794186      0.631428        1152.303058         893.535598     J\n",
       "8   583727      0.510992         935.052433         803.757495     J\n",
       "9   801812      0.344402        1048.294471         984.162261     J\n",
       "10  695987      0.449840        1008.478441         900.681471     J\n",
       "11  706115      0.493542        1018.779092         886.054331     J\n",
       "12  633341      0.252654         930.866969         900.666641     J\n",
       "13  867358      0.480959        1133.272289         993.588388     J\n",
       "14  675467      0.443197         987.758810         885.450896     J\n",
       "15  701433      0.474634        1011.271268         890.104270     J\n",
       "16  763633      0.393296        1037.761195         954.130056     J\n",
       "17  713769      0.531037        1049.073816         888.930978     J\n",
       "18  669946      0.583767        1030.810954         836.937657     J\n",
       "19  735021      0.330539        1005.098357         948.603964     J\n",
       "20  709185      0.374013         994.639340         922.451668     J\n",
       "21  618901      0.543036         974.551774         818.340310     J\n",
       "22  764079      0.553152        1088.894082         907.135918     J\n",
       "23  708955      0.593757        1069.898790         860.888130     J\n",
       "24  706176      0.692465        1127.237261         813.247420     J"
      ]
     },
     "execution_count": 7,
     "metadata": {},
     "output_type": "execute_result"
    }
   ],
   "source": [
    "image_path_list = os.listdir(\"input/Melati\")\n",
    "df = pd.DataFrame()\n",
    "for i in range(len(image_path_list)):\n",
    "    image_path = image_path_list[i]\n",
    "    image = rgb2gray(imread(\"input/Melati/\"+image_path))\n",
    "    label_img = label(image)\n",
    "    \n",
    "    table = pd.DataFrame(regionprops_table(label_img, image,\n",
    "                            ['area', 'eccentricity',                         \n",
    "                             'major_axis_length', 'minor_axis_length']))\n",
    "    table['label'] = image_path[0:1]\n",
    "    #table = table[1:]\n",
    "    \n",
    "    df = pd.concat([df, table], axis=0)\n",
    "\n",
    "df.reset_index(inplace=True)\n",
    "df.drop('index', axis = 1, inplace=True)\n",
    "df"
   ]
  },
  {
   "cell_type": "code",
   "execution_count": 8,
   "metadata": {
    "scrolled": true
   },
   "outputs": [
    {
     "data": {
      "text/plain": [
       "(25, 5)"
      ]
     },
     "execution_count": 8,
     "metadata": {},
     "output_type": "execute_result"
    }
   ],
   "source": [
    "df.shape"
   ]
  },
  {
   "cell_type": "code",
   "execution_count": 19,
   "metadata": {},
   "outputs": [],
   "source": [
    "from pathlib import Path  \n",
    "filepath = Path('csv/melati.csv')  \n",
    "filepath.parent.mkdir(parents=True, exist_ok=True)  \n",
    "df.to_csv(filepath, index=False)  "
   ]
  }
 ],
 "metadata": {
  "kernelspec": {
   "display_name": "Python 3.8.3 ('base')",
   "language": "python",
   "name": "python3"
  },
  "language_info": {
   "codemirror_mode": {
    "name": "ipython",
    "version": 3
   },
   "file_extension": ".py",
   "mimetype": "text/x-python",
   "name": "python",
   "nbconvert_exporter": "python",
   "pygments_lexer": "ipython3",
   "version": "3.8.3"
  },
  "vscode": {
   "interpreter": {
    "hash": "8cd9e4c32aa76832852086c9875b9f3c663db4c35eeef0c90fdf73d61f5b1b52"
   }
  }
 },
 "nbformat": 4,
 "nbformat_minor": 4
}
