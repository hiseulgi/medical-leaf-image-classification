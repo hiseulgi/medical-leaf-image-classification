{
 "cells": [
  {
   "cell_type": "code",
   "execution_count": 35,
   "metadata": {},
   "outputs": [],
   "source": [
    "from skimage.io import imshow, imread\n",
    "from skimage.color import rgb2gray\n",
    "from skimage.filters import threshold_otsu\n",
    "from skimage.morphology import closing\n",
    "from skimage.measure import label, regionprops, regionprops_table\n",
    "from sklearn.ensemble import GradientBoostingClassifier,RandomForestClassifier\n",
    "from sklearn.model_selection import train_test_split\n",
    "from sklearn.metrics import classification_report\n",
    "from matplotlib import pyplot as plt\n",
    "import pandas as pd\n",
    "import numpy as np\n",
    "from tqdm import tqdm\n",
    "import os"
   ]
  },
  {
   "cell_type": "code",
   "execution_count": 36,
   "metadata": {},
   "outputs": [
    {
     "data": {
      "text/plain": [
       "<matplotlib.image.AxesImage at 0x1f666828370>"
      ]
     },
     "execution_count": 36,
     "metadata": {},
     "output_type": "execute_result"
    },
    {
     "data": {
      "image/png": "[encoded data removed]",
      "text/plain": [
       "<Figure size 432x288 with 1 Axes>"
      ]
     },
     "metadata": {
      "needs_background": "light"
     },
     "output_type": "display_data"
    }
   ],
   "source": [
    "# get the filenames of the leaves under the directory “Leaves”\n",
    "image_path_list = os.listdir(\"input/Lemon\")\n",
    "# looking at the first image\n",
    "i = 21\n",
    "image_path = image_path_list[i]\n",
    "image = rgb2gray(imread(\"input/Lemon/\"+image_path))\n",
    "imshow(image)"
   ]
  },
  {
   "cell_type": "code",
   "execution_count": 37,
   "metadata": {},
   "outputs": [
    {
     "name": "stderr",
     "output_type": "stream",
     "text": [
      "c:\\Users\\Bagus\\anaconda3\\lib\\site-packages\\skimage\\io\\_plugins\\matplotlib_plugin.py:150: UserWarning: Low image data range; displaying image with stretched contrast.\n",
      "  lo, hi, cmap = _get_display_range(image)\n"
     ]
    },
    {
     "data": {
      "text/plain": [
       "<matplotlib.image.AxesImage at 0x1f66686ffd0>"
      ]
     },
     "execution_count": 37,
     "metadata": {},
     "output_type": "execute_result"
    },
    {
     "data": {
      "image/png": "[encoded data removed]",
      "text/plain": [
       "<Figure size 432x288 with 2 Axes>"
      ]
     },
     "metadata": {
      "needs_background": "light"
     },
     "output_type": "display_data"
    }
   ],
   "source": [
    "label_img = label(image)\n",
    "imshow(label_img)"
   ]
  },
  {
   "cell_type": "code",
   "execution_count": 38,
   "metadata": {},
   "outputs": [
    {
     "data": {
      "text/plain": [
       "(1191, 1590)"
      ]
     },
     "execution_count": 38,
     "metadata": {},
     "output_type": "execute_result"
    }
   ],
   "source": [
    "label_img.shape"
   ]
  },
  {
   "cell_type": "code",
   "execution_count": 39,
   "metadata": {},
   "outputs": [
    {
     "data": {
      "text/html": [
       "<div>\n",
       "<style scoped>\n",
       "    .dataframe tbody tr th:only-of-type {\n",
       "        vertical-align: middle;\n",
       "    }\n",
       "\n",
       "    .dataframe tbody tr th {\n",
       "        vertical-align: top;\n",
       "    }\n",
       "\n",
       "    .dataframe thead th {\n",
       "        text-align: right;\n",
       "    }\n",
       "</style>\n",
       "<table border=\"1\" class=\"dataframe\">\n",
       "  <thead>\n",
       "    <tr style=\"text-align: right;\">\n",
       "      <th></th>\n",
       "      <th>convex_area</th>\n",
       "      <th>area</th>\n",
       "      <th>eccentricity</th>\n",
       "      <th>extent</th>\n",
       "      <th>inertia_tensor-0-0</th>\n",
       "      <th>inertia_tensor-0-1</th>\n",
       "      <th>inertia_tensor-1-0</th>\n",
       "      <th>inertia_tensor-1-1</th>\n",
       "      <th>major_axis_length</th>\n",
       "      <th>minor_axis_length</th>\n",
       "      <th>convex_ratio</th>\n",
       "      <th>label</th>\n",
       "    </tr>\n",
       "  </thead>\n",
       "  <tbody>\n",
       "    <tr>\n",
       "      <th>1</th>\n",
       "      <td>868434</td>\n",
       "      <td>828913</td>\n",
       "      <td>0.459544</td>\n",
       "      <td>0.651246</td>\n",
       "      <td>73163.908029</td>\n",
       "      <td>5025.753856</td>\n",
       "      <td>5025.753856</td>\n",
       "      <td>60933.297504</td>\n",
       "      <td>1095.182937</td>\n",
       "      <td>972.691947</td>\n",
       "      <td>0.954492</td>\n",
       "      <td>CL-S-022.png</td>\n",
       "    </tr>\n",
       "    <tr>\n",
       "      <th>2</th>\n",
       "      <td>293</td>\n",
       "      <td>268</td>\n",
       "      <td>0.833012</td>\n",
       "      <td>0.714667</td>\n",
       "      <td>14.143392</td>\n",
       "      <td>-6.752910</td>\n",
       "      <td>-6.752910</td>\n",
       "      <td>38.842991</td>\n",
       "      <td>25.477419</td>\n",
       "      <td>14.095505</td>\n",
       "      <td>0.914676</td>\n",
       "      <td>CL-S-022.png</td>\n",
       "    </tr>\n",
       "  </tbody>\n",
       "</table>\n",
       "</div>"
      ],
      "text/plain": [
       "   convex_area    area  eccentricity    extent  inertia_tensor-0-0  \\\n",
       "1       868434  828913      0.459544  0.651246        73163.908029   \n",
       "2          293     268      0.833012  0.714667           14.143392   \n",
       "\n",
       "   inertia_tensor-0-1  inertia_tensor-1-0  inertia_tensor-1-1  \\\n",
       "1         5025.753856         5025.753856        60933.297504   \n",
       "2           -6.752910           -6.752910           38.842991   \n",
       "\n",
       "   major_axis_length  minor_axis_length  convex_ratio         label  \n",
       "1        1095.182937         972.691947      0.954492  CL-S-022.png  \n",
       "2          25.477419          14.095505      0.914676  CL-S-022.png  "
      ]
     },
     "execution_count": 39,
     "metadata": {},
     "output_type": "execute_result"
    }
   ],
   "source": [
    "table = pd.DataFrame(regionprops_table(label_img, image,\n",
    "                                       ['convex_area', 'area',\n",
    "                                        'eccentricity', 'extent',                   \n",
    "                                        'inertia_tensor',\n",
    "                                        'major_axis_length', \n",
    "                                        'minor_axis_length']))\n",
    "table['convex_ratio'] = table['area']/table['convex_area']\n",
    "table['label'] = image_path[:]\n",
    "table.loc[1:]"
   ]
  },
  {
   "cell_type": "code",
   "execution_count": 40,
   "metadata": {},
   "outputs": [
    {
     "data": {
      "text/plain": [
       "0    CL\n",
       "1    CL\n",
       "2    CL\n",
       "Name: label, dtype: object"
      ]
     },
     "execution_count": 40,
     "metadata": {},
     "output_type": "execute_result"
    }
   ],
   "source": [
    "table['label'] = image_path[0:2]\n",
    "table['label']"
   ]
  },
  {
   "cell_type": "code",
   "execution_count": 41,
   "metadata": {},
   "outputs": [
    {
     "data": {
      "text/plain": [
       "(1191, 1590)"
      ]
     },
     "execution_count": 41,
     "metadata": {},
     "output_type": "execute_result"
    }
   ],
   "source": [
    "label_img.shape"
   ]
  },
  {
   "cell_type": "code",
   "execution_count": 44,
   "metadata": {
    "scrolled": false
   },
   "outputs": [
    {
     "data": {
      "text/html": [
       "<div>\n",
       "<style scoped>\n",
       "    .dataframe tbody tr th:only-of-type {\n",
       "        vertical-align: middle;\n",
       "    }\n",
       "\n",
       "    .dataframe tbody tr th {\n",
       "        vertical-align: top;\n",
       "    }\n",
       "\n",
       "    .dataframe thead th {\n",
       "        text-align: right;\n",
       "    }\n",
       "</style>\n",
       "<table border=\"1\" class=\"dataframe\">\n",
       "  <thead>\n",
       "    <tr style=\"text-align: right;\">\n",
       "      <th></th>\n",
       "      <th>area</th>\n",
       "      <th>eccentricity</th>\n",
       "      <th>major_axis_length</th>\n",
       "      <th>minor_axis_length</th>\n",
       "      <th>label</th>\n",
       "    </tr>\n",
       "  </thead>\n",
       "  <tbody>\n",
       "    <tr>\n",
       "      <th>0</th>\n",
       "      <td>675223</td>\n",
       "      <td>0.649895</td>\n",
       "      <td>1067.429240</td>\n",
       "      <td>811.272296</td>\n",
       "      <td>CL</td>\n",
       "    </tr>\n",
       "    <tr>\n",
       "      <th>1</th>\n",
       "      <td>822393</td>\n",
       "      <td>0.624533</td>\n",
       "      <td>1161.090534</td>\n",
       "      <td>906.809955</td>\n",
       "      <td>CL</td>\n",
       "    </tr>\n",
       "    <tr>\n",
       "      <th>2</th>\n",
       "      <td>659563</td>\n",
       "      <td>0.551006</td>\n",
       "      <td>1007.218875</td>\n",
       "      <td>840.525577</td>\n",
       "      <td>CL</td>\n",
       "    </tr>\n",
       "    <tr>\n",
       "      <th>3</th>\n",
       "      <td>615677</td>\n",
       "      <td>0.614825</td>\n",
       "      <td>1009.391084</td>\n",
       "      <td>796.070013</td>\n",
       "      <td>CL</td>\n",
       "    </tr>\n",
       "    <tr>\n",
       "      <th>4</th>\n",
       "      <td>778677</td>\n",
       "      <td>0.575323</td>\n",
       "      <td>1105.284678</td>\n",
       "      <td>904.041728</td>\n",
       "      <td>CL</td>\n",
       "    </tr>\n",
       "    <tr>\n",
       "      <th>5</th>\n",
       "      <td>700597</td>\n",
       "      <td>0.472203</td>\n",
       "      <td>1012.239904</td>\n",
       "      <td>892.279314</td>\n",
       "      <td>CL</td>\n",
       "    </tr>\n",
       "    <tr>\n",
       "      <th>6</th>\n",
       "      <td>827460</td>\n",
       "      <td>0.580077</td>\n",
       "      <td>1139.221454</td>\n",
       "      <td>927.966221</td>\n",
       "      <td>CL</td>\n",
       "    </tr>\n",
       "    <tr>\n",
       "      <th>7</th>\n",
       "      <td>536600</td>\n",
       "      <td>0.718340</td>\n",
       "      <td>1004.012762</td>\n",
       "      <td>698.483609</td>\n",
       "      <td>CL</td>\n",
       "    </tr>\n",
       "    <tr>\n",
       "      <th>8</th>\n",
       "      <td>655900</td>\n",
       "      <td>0.645120</td>\n",
       "      <td>1049.184479</td>\n",
       "      <td>801.661884</td>\n",
       "      <td>CL</td>\n",
       "    </tr>\n",
       "    <tr>\n",
       "      <th>9</th>\n",
       "      <td>720217</td>\n",
       "      <td>0.572189</td>\n",
       "      <td>1062.362178</td>\n",
       "      <td>871.266610</td>\n",
       "      <td>CL</td>\n",
       "    </tr>\n",
       "    <tr>\n",
       "      <th>10</th>\n",
       "      <td>776508</td>\n",
       "      <td>0.647364</td>\n",
       "      <td>1142.501947</td>\n",
       "      <td>870.793298</td>\n",
       "      <td>CL</td>\n",
       "    </tr>\n",
       "    <tr>\n",
       "      <th>11</th>\n",
       "      <td>706967</td>\n",
       "      <td>0.736723</td>\n",
       "      <td>1164.943537</td>\n",
       "      <td>787.728466</td>\n",
       "      <td>CL</td>\n",
       "    </tr>\n",
       "    <tr>\n",
       "      <th>12</th>\n",
       "      <td>753466</td>\n",
       "      <td>0.597665</td>\n",
       "      <td>1098.764195</td>\n",
       "      <td>880.929524</td>\n",
       "      <td>CL</td>\n",
       "    </tr>\n",
       "    <tr>\n",
       "      <th>13</th>\n",
       "      <td>723982</td>\n",
       "      <td>0.434135</td>\n",
       "      <td>1019.970919</td>\n",
       "      <td>918.838619</td>\n",
       "      <td>CL</td>\n",
       "    </tr>\n",
       "    <tr>\n",
       "      <th>14</th>\n",
       "      <td>811954</td>\n",
       "      <td>0.603160</td>\n",
       "      <td>1145.120052</td>\n",
       "      <td>913.370691</td>\n",
       "      <td>CL</td>\n",
       "    </tr>\n",
       "    <tr>\n",
       "      <th>15</th>\n",
       "      <td>610830</td>\n",
       "      <td>0.579998</td>\n",
       "      <td>985.797281</td>\n",
       "      <td>803.047901</td>\n",
       "      <td>CL</td>\n",
       "    </tr>\n",
       "    <tr>\n",
       "      <th>16</th>\n",
       "      <td>469017</td>\n",
       "      <td>0.383812</td>\n",
       "      <td>811.287267</td>\n",
       "      <td>749.151888</td>\n",
       "      <td>CL</td>\n",
       "    </tr>\n",
       "    <tr>\n",
       "      <th>17</th>\n",
       "      <td>951351</td>\n",
       "      <td>0.601452</td>\n",
       "      <td>1237.710965</td>\n",
       "      <td>988.818224</td>\n",
       "      <td>CL</td>\n",
       "    </tr>\n",
       "    <tr>\n",
       "      <th>18</th>\n",
       "      <td>664756</td>\n",
       "      <td>0.626438</td>\n",
       "      <td>1046.525335</td>\n",
       "      <td>815.736278</td>\n",
       "      <td>CL</td>\n",
       "    </tr>\n",
       "    <tr>\n",
       "      <th>19</th>\n",
       "      <td>908626</td>\n",
       "      <td>0.435001</td>\n",
       "      <td>1145.066567</td>\n",
       "      <td>1031.052182</td>\n",
       "      <td>CL</td>\n",
       "    </tr>\n",
       "    <tr>\n",
       "      <th>20</th>\n",
       "      <td>517380</td>\n",
       "      <td>0.403991</td>\n",
       "      <td>857.014742</td>\n",
       "      <td>783.965338</td>\n",
       "      <td>CL</td>\n",
       "    </tr>\n",
       "    <tr>\n",
       "      <th>21</th>\n",
       "      <td>828913</td>\n",
       "      <td>0.459544</td>\n",
       "      <td>1095.182937</td>\n",
       "      <td>972.691947</td>\n",
       "      <td>CL</td>\n",
       "    </tr>\n",
       "    <tr>\n",
       "      <th>22</th>\n",
       "      <td>399259</td>\n",
       "      <td>0.583130</td>\n",
       "      <td>801.410636</td>\n",
       "      <td>651.049145</td>\n",
       "      <td>CL</td>\n",
       "    </tr>\n",
       "    <tr>\n",
       "      <th>23</th>\n",
       "      <td>685335</td>\n",
       "      <td>0.469306</td>\n",
       "      <td>1009.412940</td>\n",
       "      <td>891.347612</td>\n",
       "      <td>CL</td>\n",
       "    </tr>\n",
       "    <tr>\n",
       "      <th>24</th>\n",
       "      <td>601798</td>\n",
       "      <td>0.533335</td>\n",
       "      <td>955.726337</td>\n",
       "      <td>808.452914</td>\n",
       "      <td>CL</td>\n",
       "    </tr>\n",
       "  </tbody>\n",
       "</table>\n",
       "</div>"
      ],
      "text/plain": [
       "      area  eccentricity  major_axis_length  minor_axis_length label\n",
       "0   675223      0.649895        1067.429240         811.272296    CL\n",
       "1   822393      0.624533        1161.090534         906.809955    CL\n",
       "2   659563      0.551006        1007.218875         840.525577    CL\n",
       "3   615677      0.614825        1009.391084         796.070013    CL\n",
       "4   778677      0.575323        1105.284678         904.041728    CL\n",
       "5   700597      0.472203        1012.239904         892.279314    CL\n",
       "6   827460      0.580077        1139.221454         927.966221    CL\n",
       "7   536600      0.718340        1004.012762         698.483609    CL\n",
       "8   655900      0.645120        1049.184479         801.661884    CL\n",
       "9   720217      0.572189        1062.362178         871.266610    CL\n",
       "10  776508      0.647364        1142.501947         870.793298    CL\n",
       "11  706967      0.736723        1164.943537         787.728466    CL\n",
       "12  753466      0.597665        1098.764195         880.929524    CL\n",
       "13  723982      0.434135        1019.970919         918.838619    CL\n",
       "14  811954      0.603160        1145.120052         913.370691    CL\n",
       "15  610830      0.579998         985.797281         803.047901    CL\n",
       "16  469017      0.383812         811.287267         749.151888    CL\n",
       "17  951351      0.601452        1237.710965         988.818224    CL\n",
       "18  664756      0.626438        1046.525335         815.736278    CL\n",
       "19  908626      0.435001        1145.066567        1031.052182    CL\n",
       "20  517380      0.403991         857.014742         783.965338    CL\n",
       "21  828913      0.459544        1095.182937         972.691947    CL\n",
       "22  399259      0.583130         801.410636         651.049145    CL\n",
       "23  685335      0.469306        1009.412940         891.347612    CL\n",
       "24  601798      0.533335         955.726337         808.452914    CL"
      ]
     },
     "execution_count": 44,
     "metadata": {},
     "output_type": "execute_result"
    }
   ],
   "source": [
    "image_path_list = os.listdir(\"input/Lemon\")\n",
    "df = pd.DataFrame()\n",
    "for i in range(len(image_path_list)):\n",
    "    image_path = image_path_list[i]\n",
    "    image = rgb2gray(imread(\"input/Lemon/\"+image_path))\n",
    "    label_img = label(image)\n",
    "    \n",
    "    table = pd.DataFrame(regionprops_table(label_img, image,\n",
    "                            ['area', 'eccentricity',                         \n",
    "                             'major_axis_length', 'minor_axis_length']))\n",
    "    table['label'] = image_path[0:2]\n",
    "        \n",
    "    if (i!=21):\n",
    "        table = table.iloc[[-1]]\n",
    "    else :\n",
    "        table = table.iloc[[1]]\n",
    "        \n",
    "    \n",
    "    df = pd.concat([df, table], axis=0)\n",
    "\n",
    "df.reset_index(inplace=True)\n",
    "df.drop('index', axis = 1, inplace=True)\n",
    "df"
   ]
  },
  {
   "cell_type": "code",
   "execution_count": 43,
   "metadata": {},
   "outputs": [],
   "source": [
    "from pathlib import Path  \n",
    "filepath = Path('csv/lemon.csv')  \n",
    "filepath.parent.mkdir(parents=True, exist_ok=True)  \n",
    "df.to_csv(filepath, index=False)  "
   ]
  }
 ],
 "metadata": {
  "kernelspec": {
   "display_name": "Python 3.8.3 ('base')",
   "language": "python",
   "name": "python3"
  },
  "language_info": {
   "codemirror_mode": {
    "name": "ipython",
    "version": 3
   },
   "file_extension": ".py",
   "mimetype": "text/x-python",
   "name": "python",
   "nbconvert_exporter": "python",
   "pygments_lexer": "ipython3",
   "version": "3.8.3"
  },
  "vscode": {
   "interpreter": {
    "hash": "8cd9e4c32aa76832852086c9875b9f3c663db4c35eeef0c90fdf73d61f5b1b52"
   }
  }
 },
 "nbformat": 4,
 "nbformat_minor": 4
}
