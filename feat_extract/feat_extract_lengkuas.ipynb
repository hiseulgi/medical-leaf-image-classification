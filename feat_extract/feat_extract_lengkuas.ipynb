{
 "cells": [
  {
   "cell_type": "code",
   "execution_count": 48,
   "metadata": {},
   "outputs": [],
   "source": [
    "from skimage.io import imshow, imread\n",
    "from skimage.color import rgb2gray\n",
    "from skimage.filters import threshold_otsu\n",
    "from skimage.morphology import closing\n",
    "from skimage.measure import label, regionprops, regionprops_table\n",
    "from sklearn.ensemble import GradientBoostingClassifier,RandomForestClassifier\n",
    "from sklearn.model_selection import train_test_split\n",
    "from sklearn.metrics import classification_report\n",
    "from matplotlib import pyplot as plt\n",
    "import pandas as pd\n",
    "import numpy as np\n",
    "from tqdm import tqdm\n",
    "import os"
   ]
  },
  {
   "cell_type": "code",
   "execution_count": 49,
   "metadata": {},
   "outputs": [
    {
     "data": {
      "text/plain": [
       "<matplotlib.image.AxesImage at 0x1ea62811d60>"
      ]
     },
     "execution_count": 49,
     "metadata": {},
     "output_type": "execute_result"
    },
    {
     "data": {
      "image/png": "[encoded data removed]",
      "text/plain": [
       "<Figure size 432x288 with 1 Axes>"
      ]
     },
     "metadata": {
      "needs_background": "light"
     },
     "output_type": "display_data"
    }
   ],
   "source": [
    "# get the filenames of the leaves under the directory “Leaves”\n",
    "image_path_list = os.listdir(\"input/Lengkuas\")\n",
    "# looking at the first image\n",
    "i = 1\n",
    "image_path = image_path_list[i]\n",
    "image = rgb2gray(imread(\"input/Lengkuas/\"+image_path))\n",
    "imshow(image)"
   ]
  },
  {
   "cell_type": "code",
   "execution_count": 50,
   "metadata": {},
   "outputs": [
    {
     "name": "stderr",
     "output_type": "stream",
     "text": [
      "c:\\Users\\Bagus\\anaconda3\\lib\\site-packages\\skimage\\io\\_plugins\\matplotlib_plugin.py:150: UserWarning: Low image data range; displaying image with stretched contrast.\n",
      "  lo, hi, cmap = _get_display_range(image)\n"
     ]
    },
    {
     "data": {
      "text/plain": [
       "<matplotlib.image.AxesImage at 0x1ea62867a00>"
      ]
     },
     "execution_count": 50,
     "metadata": {},
     "output_type": "execute_result"
    },
    {
     "data": {
      "image/png": "[encoded data removed]",
      "text/plain": [
       "<Figure size 432x288 with 2 Axes>"
      ]
     },
     "metadata": {
      "needs_background": "light"
     },
     "output_type": "display_data"
    }
   ],
   "source": [
    "label_img = label(image)\n",
    "imshow(label_img)"
   ]
  },
  {
   "cell_type": "code",
   "execution_count": 51,
   "metadata": {},
   "outputs": [
    {
     "data": {
      "text/html": [
       "<div>\n",
       "<style scoped>\n",
       "    .dataframe tbody tr th:only-of-type {\n",
       "        vertical-align: middle;\n",
       "    }\n",
       "\n",
       "    .dataframe tbody tr th {\n",
       "        vertical-align: top;\n",
       "    }\n",
       "\n",
       "    .dataframe thead th {\n",
       "        text-align: right;\n",
       "    }\n",
       "</style>\n",
       "<table border=\"1\" class=\"dataframe\">\n",
       "  <thead>\n",
       "    <tr style=\"text-align: right;\">\n",
       "      <th></th>\n",
       "      <th>convex_area</th>\n",
       "      <th>area</th>\n",
       "      <th>eccentricity</th>\n",
       "      <th>extent</th>\n",
       "      <th>inertia_tensor-0-0</th>\n",
       "      <th>inertia_tensor-0-1</th>\n",
       "      <th>inertia_tensor-1-0</th>\n",
       "      <th>inertia_tensor-1-1</th>\n",
       "      <th>major_axis_length</th>\n",
       "      <th>minor_axis_length</th>\n",
       "      <th>convex_ratio</th>\n",
       "      <th>label</th>\n",
       "    </tr>\n",
       "  </thead>\n",
       "  <tbody>\n",
       "    <tr>\n",
       "      <th>0</th>\n",
       "      <td>5925</td>\n",
       "      <td>5925</td>\n",
       "      <td>0.999991</td>\n",
       "      <td>1.000000</td>\n",
       "      <td>2.000000</td>\n",
       "      <td>-0.000000</td>\n",
       "      <td>-0.000000</td>\n",
       "      <td>117018.666667</td>\n",
       "      <td>1368.319651</td>\n",
       "      <td>5.656854</td>\n",
       "      <td>1.00000</td>\n",
       "      <td>AG-S-002.png</td>\n",
       "    </tr>\n",
       "    <tr>\n",
       "      <th>1</th>\n",
       "      <td>996340</td>\n",
       "      <td>485756</td>\n",
       "      <td>0.927539</td>\n",
       "      <td>0.336552</td>\n",
       "      <td>89223.888127</td>\n",
       "      <td>44904.950636</td>\n",
       "      <td>44904.950636</td>\n",
       "      <td>43986.774891</td>\n",
       "      <td>1367.538436</td>\n",
       "      <td>511.086328</td>\n",
       "      <td>0.48754</td>\n",
       "      <td>AG-S-002.png</td>\n",
       "    </tr>\n",
       "  </tbody>\n",
       "</table>\n",
       "</div>"
      ],
      "text/plain": [
       "   convex_area    area  eccentricity    extent  inertia_tensor-0-0  \\\n",
       "0         5925    5925      0.999991  1.000000            2.000000   \n",
       "1       996340  485756      0.927539  0.336552        89223.888127   \n",
       "\n",
       "   inertia_tensor-0-1  inertia_tensor-1-0  inertia_tensor-1-1  \\\n",
       "0           -0.000000           -0.000000       117018.666667   \n",
       "1        44904.950636        44904.950636        43986.774891   \n",
       "\n",
       "   major_axis_length  minor_axis_length  convex_ratio         label  \n",
       "0        1368.319651           5.656854       1.00000  AG-S-002.png  \n",
       "1        1367.538436         511.086328       0.48754  AG-S-002.png  "
      ]
     },
     "execution_count": 51,
     "metadata": {},
     "output_type": "execute_result"
    }
   ],
   "source": [
    "table = pd.DataFrame(regionprops_table(label_img, image,\n",
    "                                       ['convex_area', 'area',\n",
    "                                        'eccentricity', 'extent',                   \n",
    "                                        'inertia_tensor',\n",
    "                                        'major_axis_length', \n",
    "                                        'minor_axis_length']))\n",
    "table['convex_ratio'] = table['area']/table['convex_area']\n",
    "table['label'] = image_path[:]\n",
    "table"
   ]
  },
  {
   "cell_type": "code",
   "execution_count": 57,
   "metadata": {
    "scrolled": false
   },
   "outputs": [
    {
     "data": {
      "text/html": [
       "<div>\n",
       "<style scoped>\n",
       "    .dataframe tbody tr th:only-of-type {\n",
       "        vertical-align: middle;\n",
       "    }\n",
       "\n",
       "    .dataframe tbody tr th {\n",
       "        vertical-align: top;\n",
       "    }\n",
       "\n",
       "    .dataframe thead th {\n",
       "        text-align: right;\n",
       "    }\n",
       "</style>\n",
       "<table border=\"1\" class=\"dataframe\">\n",
       "  <thead>\n",
       "    <tr style=\"text-align: right;\">\n",
       "      <th></th>\n",
       "      <th>area</th>\n",
       "      <th>eccentricity</th>\n",
       "      <th>major_axis_length</th>\n",
       "      <th>minor_axis_length</th>\n",
       "      <th>label</th>\n",
       "    </tr>\n",
       "  </thead>\n",
       "  <tbody>\n",
       "    <tr>\n",
       "      <th>0</th>\n",
       "      <td>234172</td>\n",
       "      <td>0.982898</td>\n",
       "      <td>1280.906948</td>\n",
       "      <td>235.882028</td>\n",
       "      <td>AG</td>\n",
       "    </tr>\n",
       "    <tr>\n",
       "      <th>1</th>\n",
       "      <td>485756</td>\n",
       "      <td>0.927539</td>\n",
       "      <td>1367.538436</td>\n",
       "      <td>511.086328</td>\n",
       "      <td>AG</td>\n",
       "    </tr>\n",
       "    <tr>\n",
       "      <th>2</th>\n",
       "      <td>422570</td>\n",
       "      <td>0.968715</td>\n",
       "      <td>1638.089181</td>\n",
       "      <td>406.537211</td>\n",
       "      <td>AG</td>\n",
       "    </tr>\n",
       "    <tr>\n",
       "      <th>3</th>\n",
       "      <td>424978</td>\n",
       "      <td>0.898483</td>\n",
       "      <td>1114.998143</td>\n",
       "      <td>489.492558</td>\n",
       "      <td>AG</td>\n",
       "    </tr>\n",
       "    <tr>\n",
       "      <th>4</th>\n",
       "      <td>240596</td>\n",
       "      <td>0.995325</td>\n",
       "      <td>1786.570658</td>\n",
       "      <td>172.549904</td>\n",
       "      <td>AG</td>\n",
       "    </tr>\n",
       "    <tr>\n",
       "      <th>5</th>\n",
       "      <td>261570</td>\n",
       "      <td>0.989996</td>\n",
       "      <td>1543.832537</td>\n",
       "      <td>217.828527</td>\n",
       "      <td>AG</td>\n",
       "    </tr>\n",
       "    <tr>\n",
       "      <th>6</th>\n",
       "      <td>301364</td>\n",
       "      <td>0.993116</td>\n",
       "      <td>1817.192552</td>\n",
       "      <td>212.859686</td>\n",
       "      <td>AG</td>\n",
       "    </tr>\n",
       "    <tr>\n",
       "      <th>7</th>\n",
       "      <td>352851</td>\n",
       "      <td>0.971845</td>\n",
       "      <td>1916.487980</td>\n",
       "      <td>451.567561</td>\n",
       "      <td>AG</td>\n",
       "    </tr>\n",
       "    <tr>\n",
       "      <th>8</th>\n",
       "      <td>249332</td>\n",
       "      <td>0.992215</td>\n",
       "      <td>1603.745659</td>\n",
       "      <td>199.725797</td>\n",
       "      <td>AG</td>\n",
       "    </tr>\n",
       "    <tr>\n",
       "      <th>9</th>\n",
       "      <td>194075</td>\n",
       "      <td>0.986445</td>\n",
       "      <td>1235.094314</td>\n",
       "      <td>202.665756</td>\n",
       "      <td>AG</td>\n",
       "    </tr>\n",
       "    <tr>\n",
       "      <th>10</th>\n",
       "      <td>282905</td>\n",
       "      <td>0.992425</td>\n",
       "      <td>1718.546982</td>\n",
       "      <td>211.133851</td>\n",
       "      <td>AG</td>\n",
       "    </tr>\n",
       "    <tr>\n",
       "      <th>11</th>\n",
       "      <td>233691</td>\n",
       "      <td>0.980889</td>\n",
       "      <td>1901.795406</td>\n",
       "      <td>370.024507</td>\n",
       "      <td>AG</td>\n",
       "    </tr>\n",
       "    <tr>\n",
       "      <th>12</th>\n",
       "      <td>325392</td>\n",
       "      <td>0.988908</td>\n",
       "      <td>1680.080076</td>\n",
       "      <td>249.544512</td>\n",
       "      <td>AG</td>\n",
       "    </tr>\n",
       "    <tr>\n",
       "      <th>13</th>\n",
       "      <td>275285</td>\n",
       "      <td>0.992077</td>\n",
       "      <td>1675.893857</td>\n",
       "      <td>210.538636</td>\n",
       "      <td>AG</td>\n",
       "    </tr>\n",
       "    <tr>\n",
       "      <th>14</th>\n",
       "      <td>228445</td>\n",
       "      <td>0.995568</td>\n",
       "      <td>1764.422144</td>\n",
       "      <td>165.940242</td>\n",
       "      <td>AG</td>\n",
       "    </tr>\n",
       "    <tr>\n",
       "      <th>15</th>\n",
       "      <td>400550</td>\n",
       "      <td>0.983686</td>\n",
       "      <td>1695.334770</td>\n",
       "      <td>304.982624</td>\n",
       "      <td>AG</td>\n",
       "    </tr>\n",
       "    <tr>\n",
       "      <th>16</th>\n",
       "      <td>224628</td>\n",
       "      <td>0.991212</td>\n",
       "      <td>1481.128790</td>\n",
       "      <td>195.922554</td>\n",
       "      <td>AG</td>\n",
       "    </tr>\n",
       "    <tr>\n",
       "      <th>17</th>\n",
       "      <td>337517</td>\n",
       "      <td>0.977348</td>\n",
       "      <td>1731.707418</td>\n",
       "      <td>366.495107</td>\n",
       "      <td>AG</td>\n",
       "    </tr>\n",
       "    <tr>\n",
       "      <th>18</th>\n",
       "      <td>321195</td>\n",
       "      <td>0.975737</td>\n",
       "      <td>1378.043323</td>\n",
       "      <td>301.718460</td>\n",
       "      <td>AG</td>\n",
       "    </tr>\n",
       "    <tr>\n",
       "      <th>19</th>\n",
       "      <td>249563</td>\n",
       "      <td>0.994634</td>\n",
       "      <td>1759.039104</td>\n",
       "      <td>181.984795</td>\n",
       "      <td>AG</td>\n",
       "    </tr>\n",
       "    <tr>\n",
       "      <th>20</th>\n",
       "      <td>300366</td>\n",
       "      <td>0.991345</td>\n",
       "      <td>1713.431226</td>\n",
       "      <td>224.943685</td>\n",
       "      <td>AG</td>\n",
       "    </tr>\n",
       "    <tr>\n",
       "      <th>21</th>\n",
       "      <td>230404</td>\n",
       "      <td>0.987501</td>\n",
       "      <td>1374.062787</td>\n",
       "      <td>216.567724</td>\n",
       "      <td>AG</td>\n",
       "    </tr>\n",
       "    <tr>\n",
       "      <th>22</th>\n",
       "      <td>301118</td>\n",
       "      <td>0.989953</td>\n",
       "      <td>1652.738404</td>\n",
       "      <td>233.695106</td>\n",
       "      <td>AG</td>\n",
       "    </tr>\n",
       "    <tr>\n",
       "      <th>23</th>\n",
       "      <td>257866</td>\n",
       "      <td>0.993022</td>\n",
       "      <td>1674.136395</td>\n",
       "      <td>197.426146</td>\n",
       "      <td>AG</td>\n",
       "    </tr>\n",
       "    <tr>\n",
       "      <th>24</th>\n",
       "      <td>257220</td>\n",
       "      <td>0.994671</td>\n",
       "      <td>1798.703643</td>\n",
       "      <td>185.453759</td>\n",
       "      <td>AG</td>\n",
       "    </tr>\n",
       "  </tbody>\n",
       "</table>\n",
       "</div>"
      ],
      "text/plain": [
       "      area  eccentricity  major_axis_length  minor_axis_length label\n",
       "0   234172      0.982898        1280.906948         235.882028    AG\n",
       "1   485756      0.927539        1367.538436         511.086328    AG\n",
       "2   422570      0.968715        1638.089181         406.537211    AG\n",
       "3   424978      0.898483        1114.998143         489.492558    AG\n",
       "4   240596      0.995325        1786.570658         172.549904    AG\n",
       "5   261570      0.989996        1543.832537         217.828527    AG\n",
       "6   301364      0.993116        1817.192552         212.859686    AG\n",
       "7   352851      0.971845        1916.487980         451.567561    AG\n",
       "8   249332      0.992215        1603.745659         199.725797    AG\n",
       "9   194075      0.986445        1235.094314         202.665756    AG\n",
       "10  282905      0.992425        1718.546982         211.133851    AG\n",
       "11  233691      0.980889        1901.795406         370.024507    AG\n",
       "12  325392      0.988908        1680.080076         249.544512    AG\n",
       "13  275285      0.992077        1675.893857         210.538636    AG\n",
       "14  228445      0.995568        1764.422144         165.940242    AG\n",
       "15  400550      0.983686        1695.334770         304.982624    AG\n",
       "16  224628      0.991212        1481.128790         195.922554    AG\n",
       "17  337517      0.977348        1731.707418         366.495107    AG\n",
       "18  321195      0.975737        1378.043323         301.718460    AG\n",
       "19  249563      0.994634        1759.039104         181.984795    AG\n",
       "20  300366      0.991345        1713.431226         224.943685    AG\n",
       "21  230404      0.987501        1374.062787         216.567724    AG\n",
       "22  301118      0.989953        1652.738404         233.695106    AG\n",
       "23  257866      0.993022        1674.136395         197.426146    AG\n",
       "24  257220      0.994671        1798.703643         185.453759    AG"
      ]
     },
     "execution_count": 57,
     "metadata": {},
     "output_type": "execute_result"
    }
   ],
   "source": [
    "image_path_list = os.listdir(\"input/Lengkuas\")\n",
    "df = pd.DataFrame()\n",
    "for i in range(len(image_path_list)):\n",
    "    image_path = image_path_list[i]\n",
    "    image = rgb2gray(imread(\"input/Lengkuas/\"+image_path))\n",
    "    label_img = label(image)\n",
    "    \n",
    "    table = pd.DataFrame(regionprops_table(label_img, image,\n",
    "                            ['area', 'eccentricity',                         \n",
    "                             'major_axis_length', 'minor_axis_length']))\n",
    "    table['label'] = image_path[0:2]\n",
    "    \n",
    "    if (i!=11):\n",
    "        table = table.iloc[[-1]]\n",
    "    else :\n",
    "        table = table.iloc[[0]]\n",
    "        \n",
    "    df = pd.concat([df, table], axis=0)\n",
    "\n",
    "df.reset_index(inplace=True)\n",
    "df.drop('index', axis = 1, inplace=True)\n",
    "df"
   ]
  },
  {
   "cell_type": "code",
   "execution_count": 58,
   "metadata": {
    "scrolled": true
   },
   "outputs": [
    {
     "data": {
      "text/plain": [
       "(25, 5)"
      ]
     },
     "execution_count": 58,
     "metadata": {},
     "output_type": "execute_result"
    }
   ],
   "source": [
    "df.shape"
   ]
  },
  {
   "cell_type": "code",
   "execution_count": 59,
   "metadata": {},
   "outputs": [],
   "source": [
    "from pathlib import Path  \n",
    "filepath = Path('csv/lengkuas.csv')  \n",
    "filepath.parent.mkdir(parents=True, exist_ok=True)  \n",
    "df.to_csv(filepath, index=False)  "
   ]
  }
 ],
 "metadata": {
  "kernelspec": {
   "display_name": "Python 3.8.3 ('base')",
   "language": "python",
   "name": "python3"
  },
  "language_info": {
   "codemirror_mode": {
    "name": "ipython",
    "version": 3
   },
   "file_extension": ".py",
   "mimetype": "text/x-python",
   "name": "python",
   "nbconvert_exporter": "python",
   "pygments_lexer": "ipython3",
   "version": "3.8.3"
  },
  "vscode": {
   "interpreter": {
    "hash": "8cd9e4c32aa76832852086c9875b9f3c663db4c35eeef0c90fdf73d61f5b1b52"
   }
  }
 },
 "nbformat": 4,
 "nbformat_minor": 4
}
