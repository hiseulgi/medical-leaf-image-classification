{
 "cells": [
  {
   "cell_type": "code",
   "execution_count": 16,
   "metadata": {},
   "outputs": [],
   "source": [
    "import pandas as pd\n",
    "import glob\n",
    "import os"
   ]
  },
  {
   "cell_type": "code",
   "execution_count": 17,
   "metadata": {},
   "outputs": [],
   "source": [
    "files_dir = os.listdir(\"csv/\")"
   ]
  },
  {
   "cell_type": "code",
   "execution_count": 18,
   "metadata": {},
   "outputs": [],
   "source": [
    "files = []\n",
    "for i in range(len(files_dir)):\n",
    "  files.append(\"csv/\"+files_dir[i])"
   ]
  },
  {
   "cell_type": "code",
   "execution_count": 19,
   "metadata": {},
   "outputs": [
    {
     "data": {
      "text/html": [
       "<div>\n",
       "<style scoped>\n",
       "    .dataframe tbody tr th:only-of-type {\n",
       "        vertical-align: middle;\n",
       "    }\n",
       "\n",
       "    .dataframe tbody tr th {\n",
       "        vertical-align: top;\n",
       "    }\n",
       "\n",
       "    .dataframe thead th {\n",
       "        text-align: right;\n",
       "    }\n",
       "</style>\n",
       "<table border=\"1\" class=\"dataframe\">\n",
       "  <thead>\n",
       "    <tr style=\"text-align: right;\">\n",
       "      <th></th>\n",
       "      <th>area</th>\n",
       "      <th>eccentricity</th>\n",
       "      <th>major_axis_length</th>\n",
       "      <th>minor_axis_length</th>\n",
       "      <th>label</th>\n",
       "    </tr>\n",
       "  </thead>\n",
       "  <tbody>\n",
       "    <tr>\n",
       "      <th>0</th>\n",
       "      <td>371447</td>\n",
       "      <td>0.537726</td>\n",
       "      <td>753.297041</td>\n",
       "      <td>635.119650</td>\n",
       "      <td>MO</td>\n",
       "    </tr>\n",
       "    <tr>\n",
       "      <th>1</th>\n",
       "      <td>554048</td>\n",
       "      <td>0.193027</td>\n",
       "      <td>851.226953</td>\n",
       "      <td>835.218237</td>\n",
       "      <td>MO</td>\n",
       "    </tr>\n",
       "    <tr>\n",
       "      <th>2</th>\n",
       "      <td>316128</td>\n",
       "      <td>0.458434</td>\n",
       "      <td>674.651837</td>\n",
       "      <td>599.582138</td>\n",
       "      <td>MO</td>\n",
       "    </tr>\n",
       "    <tr>\n",
       "      <th>3</th>\n",
       "      <td>327667</td>\n",
       "      <td>0.207224</td>\n",
       "      <td>654.478893</td>\n",
       "      <td>640.272433</td>\n",
       "      <td>MO</td>\n",
       "    </tr>\n",
       "    <tr>\n",
       "      <th>4</th>\n",
       "      <td>389112</td>\n",
       "      <td>0.406810</td>\n",
       "      <td>739.802871</td>\n",
       "      <td>675.819245</td>\n",
       "      <td>MO</td>\n",
       "    </tr>\n",
       "    <tr>\n",
       "      <th>...</th>\n",
       "      <td>...</td>\n",
       "      <td>...</td>\n",
       "      <td>...</td>\n",
       "      <td>...</td>\n",
       "      <td>...</td>\n",
       "    </tr>\n",
       "    <tr>\n",
       "      <th>120</th>\n",
       "      <td>492547</td>\n",
       "      <td>0.609954</td>\n",
       "      <td>894.254447</td>\n",
       "      <td>708.639961</td>\n",
       "      <td>M</td>\n",
       "    </tr>\n",
       "    <tr>\n",
       "      <th>121</th>\n",
       "      <td>478457</td>\n",
       "      <td>0.562937</td>\n",
       "      <td>861.642884</td>\n",
       "      <td>712.147826</td>\n",
       "      <td>M</td>\n",
       "    </tr>\n",
       "    <tr>\n",
       "      <th>122</th>\n",
       "      <td>633767</td>\n",
       "      <td>0.335200</td>\n",
       "      <td>930.359868</td>\n",
       "      <td>876.535917</td>\n",
       "      <td>M</td>\n",
       "    </tr>\n",
       "    <tr>\n",
       "      <th>123</th>\n",
       "      <td>606853</td>\n",
       "      <td>0.393854</td>\n",
       "      <td>918.722937</td>\n",
       "      <td>844.465284</td>\n",
       "      <td>M</td>\n",
       "    </tr>\n",
       "    <tr>\n",
       "      <th>124</th>\n",
       "      <td>456991</td>\n",
       "      <td>0.482324</td>\n",
       "      <td>823.027373</td>\n",
       "      <td>720.965925</td>\n",
       "      <td>M</td>\n",
       "    </tr>\n",
       "  </tbody>\n",
       "</table>\n",
       "<p>125 rows × 5 columns</p>\n",
       "</div>"
      ],
      "text/plain": [
       "       area  eccentricity  major_axis_length  minor_axis_length label\n",
       "0    371447      0.537726         753.297041         635.119650    MO\n",
       "1    554048      0.193027         851.226953         835.218237    MO\n",
       "2    316128      0.458434         674.651837         599.582138    MO\n",
       "3    327667      0.207224         654.478893         640.272433    MO\n",
       "4    389112      0.406810         739.802871         675.819245    MO\n",
       "..      ...           ...                ...                ...   ...\n",
       "120  492547      0.609954         894.254447         708.639961     M\n",
       "121  478457      0.562937         861.642884         712.147826     M\n",
       "122  633767      0.335200         930.359868         876.535917     M\n",
       "123  606853      0.393854         918.722937         844.465284     M\n",
       "124  456991      0.482324         823.027373         720.965925     M\n",
       "\n",
       "[125 rows x 5 columns]"
      ]
     },
     "execution_count": 19,
     "metadata": {},
     "output_type": "execute_result"
    }
   ],
   "source": [
    "# joining files with concat and read_csv\n",
    "df = pd.concat(map(pd.read_csv, files), ignore_index=True)\n",
    "df"
   ]
  },
  {
   "cell_type": "code",
   "execution_count": 20,
   "metadata": {},
   "outputs": [],
   "source": [
    "from pathlib import Path  \n",
    "filepath = Path('../leaf_classify/leaf_data.csv')  \n",
    "filepath.parent.mkdir(parents=True, exist_ok=True)  \n",
    "df.to_csv(filepath, index=False)  "
   ]
  }
 ],
 "metadata": {
  "kernelspec": {
   "display_name": "Python 3.8.3 ('base')",
   "language": "python",
   "name": "python3"
  },
  "language_info": {
   "codemirror_mode": {
    "name": "ipython",
    "version": 3
   },
   "file_extension": ".py",
   "mimetype": "text/x-python",
   "name": "python",
   "nbconvert_exporter": "python",
   "pygments_lexer": "ipython3",
   "version": "3.8.3"
  },
  "orig_nbformat": 4,
  "vscode": {
   "interpreter": {
    "hash": "8cd9e4c32aa76832852086c9875b9f3c663db4c35eeef0c90fdf73d61f5b1b52"
   }
  }
 },
 "nbformat": 4,
 "nbformat_minor": 2
}
