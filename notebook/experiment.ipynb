{
 "cells": [
  {
   "cell_type": "code",
   "execution_count": null,
   "metadata": {},
   "outputs": [],
   "source": [
    "from skimage.io import imshow, imread\n",
    "from skimage.color import rgb2gray\n",
    "from skimage.filters import threshold_otsu, median\n",
    "from skimage.measure import label, regionprops_table\n",
    "from skimage.morphology import remove_small_objects, remove_small_holes, erosion\n",
    "import numpy as np"
   ]
  },
  {
   "cell_type": "markdown",
   "metadata": {},
   "source": [
    "## Read Image"
   ]
  },
  {
   "cell_type": "code",
   "execution_count": null,
   "metadata": {},
   "outputs": [],
   "source": [
    "# read image\n",
    "image = imread(\"../data/cleaned_dataset/arive_dantu/AV-S-001.jpg\")\n",
    "imshow(image);"
   ]
  },
  {
   "cell_type": "markdown",
   "metadata": {},
   "source": [
    "## Convert RGB to Grayscale"
   ]
  },
  {
   "cell_type": "code",
   "execution_count": null,
   "metadata": {},
   "outputs": [],
   "source": [
    "image_gray = rgb2gray(image)\n",
    "imshow(image_gray, cmap=\"gray\");"
   ]
  },
  {
   "cell_type": "markdown",
   "metadata": {},
   "source": [
    "### Median Filtering"
   ]
  },
  {
   "cell_type": "code",
   "execution_count": null,
   "metadata": {},
   "outputs": [],
   "source": [
    "image_median = median(image_gray)\n",
    "imshow(image_median, cmap=\"gray\")"
   ]
  },
  {
   "cell_type": "markdown",
   "metadata": {},
   "source": [
    "### Thresholding (Binary Image)"
   ]
  },
  {
   "cell_type": "code",
   "execution_count": null,
   "metadata": {},
   "outputs": [],
   "source": [
    "threshold = threshold_otsu(image_gray)\n",
    "image_binary = image_gray > threshold\n",
    "imshow(image_binary, cmap=\"gray\");"
   ]
  },
  {
   "cell_type": "markdown",
   "metadata": {},
   "source": [
    "### Erosion"
   ]
  },
  {
   "cell_type": "code",
   "execution_count": null,
   "metadata": {},
   "outputs": [],
   "source": [
    "image_erosion = erosion(image_binary)\n",
    "image_erosion = remove_small_objects(image_erosion, 50)\n",
    "image_erosion = remove_small_holes(image_erosion, 50)\n",
    "imshow(image_erosion, cmap=\"gray\")"
   ]
  },
  {
   "cell_type": "markdown",
   "metadata": {},
   "source": [
    "### Inverse Image"
   ]
  },
  {
   "cell_type": "code",
   "execution_count": null,
   "metadata": {},
   "outputs": [],
   "source": [
    "inverted_img = np.invert(image_erosion)\n",
    "imshow(inverted_img, cmap=\"gray\")"
   ]
  },
  {
   "cell_type": "markdown",
   "metadata": {},
   "source": [
    "### Feature Extraction"
   ]
  },
  {
   "cell_type": "code",
   "execution_count": null,
   "metadata": {},
   "outputs": [],
   "source": [
    "properties = [\n",
    "    \"area\",\n",
    "    \"eccentricity\",\n",
    "    \"major_axis_length\",\n",
    "    \"minor_axis_length\",\n",
    "    \"perimeter\",\n",
    "]\n",
    "\n",
    "labels = label(inverted_img)\n",
    "props = regionprops_table(labels, inverted_img, properties=properties)\n",
    "props"
   ]
  },
  {
   "cell_type": "markdown",
   "metadata": {},
   "source": [
    "## Test Predict"
   ]
  },
  {
   "cell_type": "code",
   "execution_count": null,
   "metadata": {},
   "outputs": [],
   "source": [
    "import numpy as np\n",
    "import pickle\n",
    "\n",
    "with open(\"../temp/scaler.pkl\", \"rb\") as f:\n",
    "    scaler = pickle.load(f)\n",
    "\n",
    "temp = {\"saya\": 0.1, \"coba\": 2.0, \"lagi\": 3.0, \"ya\": 4.0, \"saka\": 5.0}\n",
    "temp = np.array(list(temp.values()))\n",
    "scaler.transform(temp.reshape(1, -1))\n",
    "\n",
    "# ====================\n",
    "\n",
    "with open(\"../temp/knn_model.pkl\", \"rb\") as f:\n",
    "    model = pickle.load(f)\n",
    "\n",
    "predict = model.predict_proba(temp.reshape(1, -1))\n",
    "predict\n",
    "\n",
    "# ====================\n",
    "\n",
    "import json\n",
    "\n",
    "with open(\"../temp/class_mapping.json\", \"r\") as f:\n",
    "    class_mapping = json.load(f)\n",
    "\n",
    "\n",
    "top_5 = np.argsort(predict[0])[-5:][::-1]\n",
    "top_5_dict = {class_mapping[str(i)]: round(predict[0][i], 2) for i in top_5}\n",
    "top_5_dict"
   ]
  }
 ],
 "metadata": {
  "kernelspec": {
   "display_name": "base",
   "language": "python",
   "name": "python3"
  },
  "language_info": {
   "codemirror_mode": {
    "name": "ipython",
    "version": 3
   },
   "file_extension": ".py",
   "mimetype": "text/x-python",
   "name": "python",
   "nbconvert_exporter": "python",
   "pygments_lexer": "ipython3",
   "version": "3.11.5"
  }
 },
 "nbformat": 4,
 "nbformat_minor": 2
}
