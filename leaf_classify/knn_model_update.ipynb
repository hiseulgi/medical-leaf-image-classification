{
 "cells": [
  {
   "cell_type": "markdown",
   "metadata": {},
   "source": [
    "# Import Library and Dataset"
   ]
  },
  {
   "cell_type": "code",
   "execution_count": 63,
   "metadata": {},
   "outputs": [],
   "source": [
    "from skimage.io import imshow, imread\n",
    "from skimage.color import rgb2gray\n",
    "from skimage.filters import threshold_otsu\n",
    "from skimage.morphology import closing\n",
    "from skimage.measure import label, regionprops, regionprops_table\n",
    "from sklearn.ensemble import GradientBoostingClassifier,RandomForestClassifier\n",
    "from sklearn.model_selection import train_test_split\n",
    "from sklearn.metrics import classification_report\n",
    "from matplotlib import pyplot as plt\n",
    "import pandas as pd\n",
    "import numpy as np\n",
    "from tqdm import tqdm\n",
    "import os\n",
    "import seaborn as sns"
   ]
  },
  {
   "cell_type": "code",
   "execution_count": 64,
   "metadata": {},
   "outputs": [
    {
     "data": {
      "text/html": [
       "<div>\n",
       "<style scoped>\n",
       "    .dataframe tbody tr th:only-of-type {\n",
       "        vertical-align: middle;\n",
       "    }\n",
       "\n",
       "    .dataframe tbody tr th {\n",
       "        vertical-align: top;\n",
       "    }\n",
       "\n",
       "    .dataframe thead th {\n",
       "        text-align: right;\n",
       "    }\n",
       "</style>\n",
       "<table border=\"1\" class=\"dataframe\">\n",
       "  <thead>\n",
       "    <tr style=\"text-align: right;\">\n",
       "      <th></th>\n",
       "      <th>area</th>\n",
       "      <th>eccentricity</th>\n",
       "      <th>major_axis_length</th>\n",
       "      <th>minor_axis_length</th>\n",
       "      <th>label</th>\n",
       "    </tr>\n",
       "  </thead>\n",
       "  <tbody>\n",
       "    <tr>\n",
       "      <th>0</th>\n",
       "      <td>371447</td>\n",
       "      <td>0.537726</td>\n",
       "      <td>753.297041</td>\n",
       "      <td>635.119650</td>\n",
       "      <td>MO</td>\n",
       "    </tr>\n",
       "    <tr>\n",
       "      <th>1</th>\n",
       "      <td>554048</td>\n",
       "      <td>0.193027</td>\n",
       "      <td>851.226953</td>\n",
       "      <td>835.218237</td>\n",
       "      <td>MO</td>\n",
       "    </tr>\n",
       "    <tr>\n",
       "      <th>2</th>\n",
       "      <td>316128</td>\n",
       "      <td>0.458434</td>\n",
       "      <td>674.651837</td>\n",
       "      <td>599.582138</td>\n",
       "      <td>MO</td>\n",
       "    </tr>\n",
       "    <tr>\n",
       "      <th>3</th>\n",
       "      <td>327667</td>\n",
       "      <td>0.207224</td>\n",
       "      <td>654.478893</td>\n",
       "      <td>640.272433</td>\n",
       "      <td>MO</td>\n",
       "    </tr>\n",
       "    <tr>\n",
       "      <th>4</th>\n",
       "      <td>389112</td>\n",
       "      <td>0.406810</td>\n",
       "      <td>739.802871</td>\n",
       "      <td>675.819245</td>\n",
       "      <td>MO</td>\n",
       "    </tr>\n",
       "  </tbody>\n",
       "</table>\n",
       "</div>"
      ],
      "text/plain": [
       "     area  eccentricity  major_axis_length  minor_axis_length label\n",
       "0  371447      0.537726         753.297041         635.119650    MO\n",
       "1  554048      0.193027         851.226953         835.218237    MO\n",
       "2  316128      0.458434         674.651837         599.582138    MO\n",
       "3  327667      0.207224         654.478893         640.272433    MO\n",
       "4  389112      0.406810         739.802871         675.819245    MO"
      ]
     },
     "execution_count": 64,
     "metadata": {},
     "output_type": "execute_result"
    }
   ],
   "source": [
    "data = pd.read_csv('leaf_data.csv')\n",
    "data.head()"
   ]
  },
  {
   "cell_type": "code",
   "execution_count": 65,
   "metadata": {},
   "outputs": [
    {
     "name": "stdout",
     "output_type": "stream",
     "text": [
      "<class 'pandas.core.frame.DataFrame'>\n",
      "RangeIndex: 125 entries, 0 to 124\n",
      "Data columns (total 5 columns):\n",
      " #   Column             Non-Null Count  Dtype  \n",
      "---  ------             --------------  -----  \n",
      " 0   area               125 non-null    int64  \n",
      " 1   eccentricity       125 non-null    float64\n",
      " 2   major_axis_length  125 non-null    float64\n",
      " 3   minor_axis_length  125 non-null    float64\n",
      " 4   label              125 non-null    object \n",
      "dtypes: float64(3), int64(1), object(1)\n",
      "memory usage: 5.0+ KB\n"
     ]
    }
   ],
   "source": [
    "data.info()"
   ]
  },
  {
   "cell_type": "code",
   "execution_count": 66,
   "metadata": {},
   "outputs": [
    {
     "data": {
      "text/html": [
       "<div>\n",
       "<style scoped>\n",
       "    .dataframe tbody tr th:only-of-type {\n",
       "        vertical-align: middle;\n",
       "    }\n",
       "\n",
       "    .dataframe tbody tr th {\n",
       "        vertical-align: top;\n",
       "    }\n",
       "\n",
       "    .dataframe thead th {\n",
       "        text-align: right;\n",
       "    }\n",
       "</style>\n",
       "<table border=\"1\" class=\"dataframe\">\n",
       "  <thead>\n",
       "    <tr style=\"text-align: right;\">\n",
       "      <th></th>\n",
       "      <th>area</th>\n",
       "      <th>eccentricity</th>\n",
       "      <th>major_axis_length</th>\n",
       "      <th>minor_axis_length</th>\n",
       "    </tr>\n",
       "  </thead>\n",
       "  <tbody>\n",
       "    <tr>\n",
       "      <th>count</th>\n",
       "      <td>125.000000</td>\n",
       "      <td>125.000000</td>\n",
       "      <td>125.000000</td>\n",
       "      <td>125.000000</td>\n",
       "    </tr>\n",
       "    <tr>\n",
       "      <th>mean</th>\n",
       "      <td>541403.792000</td>\n",
       "      <td>0.590412</td>\n",
       "      <td>1078.771626</td>\n",
       "      <td>699.462637</td>\n",
       "    </tr>\n",
       "    <tr>\n",
       "      <th>std</th>\n",
       "      <td>191488.546613</td>\n",
       "      <td>0.226206</td>\n",
       "      <td>312.942561</td>\n",
       "      <td>243.288873</td>\n",
       "    </tr>\n",
       "    <tr>\n",
       "      <th>min</th>\n",
       "      <td>194075.000000</td>\n",
       "      <td>0.170271</td>\n",
       "      <td>547.748789</td>\n",
       "      <td>165.940242</td>\n",
       "    </tr>\n",
       "    <tr>\n",
       "      <th>25%</th>\n",
       "      <td>388235.000000</td>\n",
       "      <td>0.443197</td>\n",
       "      <td>868.238963</td>\n",
       "      <td>599.582138</td>\n",
       "    </tr>\n",
       "    <tr>\n",
       "      <th>50%</th>\n",
       "      <td>583727.000000</td>\n",
       "      <td>0.549228</td>\n",
       "      <td>1009.391084</td>\n",
       "      <td>787.728466</td>\n",
       "    </tr>\n",
       "    <tr>\n",
       "      <th>75%</th>\n",
       "      <td>695987.000000</td>\n",
       "      <td>0.647364</td>\n",
       "      <td>1142.501947</td>\n",
       "      <td>880.929524</td>\n",
       "    </tr>\n",
       "    <tr>\n",
       "      <th>max</th>\n",
       "      <td>951351.000000</td>\n",
       "      <td>0.995568</td>\n",
       "      <td>1916.487980</td>\n",
       "      <td>1031.052182</td>\n",
       "    </tr>\n",
       "  </tbody>\n",
       "</table>\n",
       "</div>"
      ],
      "text/plain": [
       "                area  eccentricity  major_axis_length  minor_axis_length\n",
       "count     125.000000    125.000000         125.000000         125.000000\n",
       "mean   541403.792000      0.590412        1078.771626         699.462637\n",
       "std    191488.546613      0.226206         312.942561         243.288873\n",
       "min    194075.000000      0.170271         547.748789         165.940242\n",
       "25%    388235.000000      0.443197         868.238963         599.582138\n",
       "50%    583727.000000      0.549228        1009.391084         787.728466\n",
       "75%    695987.000000      0.647364        1142.501947         880.929524\n",
       "max    951351.000000      0.995568        1916.487980        1031.052182"
      ]
     },
     "execution_count": 66,
     "metadata": {},
     "output_type": "execute_result"
    }
   ],
   "source": [
    "data.describe()"
   ]
  },
  {
   "cell_type": "code",
   "execution_count": 67,
   "metadata": {},
   "outputs": [
    {
     "data": {
      "text/plain": [
       "(125, 5)"
      ]
     },
     "execution_count": 67,
     "metadata": {},
     "output_type": "execute_result"
    }
   ],
   "source": [
    "data.shape"
   ]
  },
  {
   "cell_type": "code",
   "execution_count": 68,
   "metadata": {},
   "outputs": [
    {
     "data": {
      "text/plain": [
       "array(['MO', 'CL', 'AG', 'J', 'M'], dtype=object)"
      ]
     },
     "execution_count": 68,
     "metadata": {},
     "output_type": "execute_result"
    }
   ],
   "source": [
    "data['label'].unique()"
   ]
  },
  {
   "cell_type": "code",
   "execution_count": 69,
   "metadata": {},
   "outputs": [
    {
     "data": {
      "text/plain": [
       "MO    25\n",
       "CL    25\n",
       "AG    25\n",
       "J     25\n",
       "M     25\n",
       "Name: label, dtype: int64"
      ]
     },
     "execution_count": 69,
     "metadata": {},
     "output_type": "execute_result"
    }
   ],
   "source": [
    "data['label'].value_counts()"
   ]
  },
  {
   "cell_type": "code",
   "execution_count": 70,
   "metadata": {},
   "outputs": [
    {
     "data": {
      "text/plain": [
       "area                 0\n",
       "eccentricity         0\n",
       "major_axis_length    0\n",
       "minor_axis_length    0\n",
       "label                0\n",
       "dtype: int64"
      ]
     },
     "execution_count": 70,
     "metadata": {},
     "output_type": "execute_result"
    }
   ],
   "source": [
    "data.isna().sum()"
   ]
  },
  {
   "cell_type": "markdown",
   "metadata": {},
   "source": [
    "# Splitting Data Etc."
   ]
  },
  {
   "cell_type": "markdown",
   "metadata": {},
   "source": [
    "### Label Encoding"
   ]
  },
  {
   "cell_type": "code",
   "execution_count": 71,
   "metadata": {},
   "outputs": [
    {
     "data": {
      "text/html": [
       "<div>\n",
       "<style scoped>\n",
       "    .dataframe tbody tr th:only-of-type {\n",
       "        vertical-align: middle;\n",
       "    }\n",
       "\n",
       "    .dataframe tbody tr th {\n",
       "        vertical-align: top;\n",
       "    }\n",
       "\n",
       "    .dataframe thead th {\n",
       "        text-align: right;\n",
       "    }\n",
       "</style>\n",
       "<table border=\"1\" class=\"dataframe\">\n",
       "  <thead>\n",
       "    <tr style=\"text-align: right;\">\n",
       "      <th></th>\n",
       "      <th>area</th>\n",
       "      <th>eccentricity</th>\n",
       "      <th>major_axis_length</th>\n",
       "      <th>minor_axis_length</th>\n",
       "      <th>label</th>\n",
       "    </tr>\n",
       "  </thead>\n",
       "  <tbody>\n",
       "    <tr>\n",
       "      <th>0</th>\n",
       "      <td>371447</td>\n",
       "      <td>0.537726</td>\n",
       "      <td>753.297041</td>\n",
       "      <td>635.119650</td>\n",
       "      <td>MO</td>\n",
       "    </tr>\n",
       "    <tr>\n",
       "      <th>1</th>\n",
       "      <td>554048</td>\n",
       "      <td>0.193027</td>\n",
       "      <td>851.226953</td>\n",
       "      <td>835.218237</td>\n",
       "      <td>MO</td>\n",
       "    </tr>\n",
       "    <tr>\n",
       "      <th>2</th>\n",
       "      <td>316128</td>\n",
       "      <td>0.458434</td>\n",
       "      <td>674.651837</td>\n",
       "      <td>599.582138</td>\n",
       "      <td>MO</td>\n",
       "    </tr>\n",
       "    <tr>\n",
       "      <th>3</th>\n",
       "      <td>327667</td>\n",
       "      <td>0.207224</td>\n",
       "      <td>654.478893</td>\n",
       "      <td>640.272433</td>\n",
       "      <td>MO</td>\n",
       "    </tr>\n",
       "    <tr>\n",
       "      <th>4</th>\n",
       "      <td>389112</td>\n",
       "      <td>0.406810</td>\n",
       "      <td>739.802871</td>\n",
       "      <td>675.819245</td>\n",
       "      <td>MO</td>\n",
       "    </tr>\n",
       "  </tbody>\n",
       "</table>\n",
       "</div>"
      ],
      "text/plain": [
       "     area  eccentricity  major_axis_length  minor_axis_length label\n",
       "0  371447      0.537726         753.297041         635.119650    MO\n",
       "1  554048      0.193027         851.226953         835.218237    MO\n",
       "2  316128      0.458434         674.651837         599.582138    MO\n",
       "3  327667      0.207224         654.478893         640.272433    MO\n",
       "4  389112      0.406810         739.802871         675.819245    MO"
      ]
     },
     "execution_count": 71,
     "metadata": {},
     "output_type": "execute_result"
    }
   ],
   "source": [
    "df = data.copy()\n",
    "df.head()"
   ]
  },
  {
   "cell_type": "code",
   "execution_count": 72,
   "metadata": {},
   "outputs": [],
   "source": [
    "from sklearn.preprocessing import LabelEncoder, OneHotEncoder"
   ]
  },
  {
   "cell_type": "code",
   "execution_count": 73,
   "metadata": {},
   "outputs": [],
   "source": [
    "labelencoder = LabelEncoder()\n",
    "df['label'] = labelencoder.fit_transform(df['label'])"
   ]
  },
  {
   "cell_type": "code",
   "execution_count": 74,
   "metadata": {},
   "outputs": [
    {
     "data": {
      "text/html": [
       "<div>\n",
       "<style scoped>\n",
       "    .dataframe tbody tr th:only-of-type {\n",
       "        vertical-align: middle;\n",
       "    }\n",
       "\n",
       "    .dataframe tbody tr th {\n",
       "        vertical-align: top;\n",
       "    }\n",
       "\n",
       "    .dataframe thead th {\n",
       "        text-align: right;\n",
       "    }\n",
       "</style>\n",
       "<table border=\"1\" class=\"dataframe\">\n",
       "  <thead>\n",
       "    <tr style=\"text-align: right;\">\n",
       "      <th></th>\n",
       "      <th>area</th>\n",
       "      <th>eccentricity</th>\n",
       "      <th>major_axis_length</th>\n",
       "      <th>minor_axis_length</th>\n",
       "      <th>label</th>\n",
       "    </tr>\n",
       "  </thead>\n",
       "  <tbody>\n",
       "    <tr>\n",
       "      <th>0</th>\n",
       "      <td>371447</td>\n",
       "      <td>0.537726</td>\n",
       "      <td>753.297041</td>\n",
       "      <td>635.119650</td>\n",
       "      <td>4</td>\n",
       "    </tr>\n",
       "    <tr>\n",
       "      <th>1</th>\n",
       "      <td>554048</td>\n",
       "      <td>0.193027</td>\n",
       "      <td>851.226953</td>\n",
       "      <td>835.218237</td>\n",
       "      <td>4</td>\n",
       "    </tr>\n",
       "    <tr>\n",
       "      <th>2</th>\n",
       "      <td>316128</td>\n",
       "      <td>0.458434</td>\n",
       "      <td>674.651837</td>\n",
       "      <td>599.582138</td>\n",
       "      <td>4</td>\n",
       "    </tr>\n",
       "    <tr>\n",
       "      <th>3</th>\n",
       "      <td>327667</td>\n",
       "      <td>0.207224</td>\n",
       "      <td>654.478893</td>\n",
       "      <td>640.272433</td>\n",
       "      <td>4</td>\n",
       "    </tr>\n",
       "    <tr>\n",
       "      <th>4</th>\n",
       "      <td>389112</td>\n",
       "      <td>0.406810</td>\n",
       "      <td>739.802871</td>\n",
       "      <td>675.819245</td>\n",
       "      <td>4</td>\n",
       "    </tr>\n",
       "  </tbody>\n",
       "</table>\n",
       "</div>"
      ],
      "text/plain": [
       "     area  eccentricity  major_axis_length  minor_axis_length  label\n",
       "0  371447      0.537726         753.297041         635.119650      4\n",
       "1  554048      0.193027         851.226953         835.218237      4\n",
       "2  316128      0.458434         674.651837         599.582138      4\n",
       "3  327667      0.207224         654.478893         640.272433      4\n",
       "4  389112      0.406810         739.802871         675.819245      4"
      ]
     },
     "execution_count": 74,
     "metadata": {},
     "output_type": "execute_result"
    }
   ],
   "source": [
    "df.head()"
   ]
  },
  {
   "cell_type": "code",
   "execution_count": 75,
   "metadata": {},
   "outputs": [
    {
     "data": {
      "text/plain": [
       "{0: 'AG', 1: 'CL', 2: 'J', 3: 'M', 4: 'MO'}"
      ]
     },
     "execution_count": 75,
     "metadata": {},
     "output_type": "execute_result"
    }
   ],
   "source": [
    "info = {df['label'][i] : data['label'][i] for i in range(len(data))}\n",
    "dict(sorted(info.items(), key=lambda x:int(x[0])))"
   ]
  },
  {
   "cell_type": "markdown",
   "metadata": {},
   "source": [
    "### Data Correlation"
   ]
  },
  {
   "cell_type": "code",
   "execution_count": 76,
   "metadata": {},
   "outputs": [
    {
     "data": {
      "text/html": [
       "<div>\n",
       "<style scoped>\n",
       "    .dataframe tbody tr th:only-of-type {\n",
       "        vertical-align: middle;\n",
       "    }\n",
       "\n",
       "    .dataframe tbody tr th {\n",
       "        vertical-align: top;\n",
       "    }\n",
       "\n",
       "    .dataframe thead th {\n",
       "        text-align: right;\n",
       "    }\n",
       "</style>\n",
       "<table border=\"1\" class=\"dataframe\">\n",
       "  <thead>\n",
       "    <tr style=\"text-align: right;\">\n",
       "      <th></th>\n",
       "      <th>area</th>\n",
       "      <th>eccentricity</th>\n",
       "      <th>major_axis_length</th>\n",
       "      <th>minor_axis_length</th>\n",
       "      <th>label</th>\n",
       "    </tr>\n",
       "  </thead>\n",
       "  <tbody>\n",
       "    <tr>\n",
       "      <th>area</th>\n",
       "      <td>1.000000</td>\n",
       "      <td>-0.486446</td>\n",
       "      <td>-0.253450</td>\n",
       "      <td>0.893979</td>\n",
       "      <td>0.081858</td>\n",
       "    </tr>\n",
       "    <tr>\n",
       "      <th>eccentricity</th>\n",
       "      <td>-0.486446</td>\n",
       "      <td>1.000000</td>\n",
       "      <td>0.839921</td>\n",
       "      <td>-0.795416</td>\n",
       "      <td>-0.759126</td>\n",
       "    </tr>\n",
       "    <tr>\n",
       "      <th>major_axis_length</th>\n",
       "      <td>-0.253450</td>\n",
       "      <td>0.839921</td>\n",
       "      <td>1.000000</td>\n",
       "      <td>-0.622217</td>\n",
       "      <td>-0.830351</td>\n",
       "    </tr>\n",
       "    <tr>\n",
       "      <th>minor_axis_length</th>\n",
       "      <td>0.893979</td>\n",
       "      <td>-0.795416</td>\n",
       "      <td>-0.622217</td>\n",
       "      <td>1.000000</td>\n",
       "      <td>0.450792</td>\n",
       "    </tr>\n",
       "    <tr>\n",
       "      <th>label</th>\n",
       "      <td>0.081858</td>\n",
       "      <td>-0.759126</td>\n",
       "      <td>-0.830351</td>\n",
       "      <td>0.450792</td>\n",
       "      <td>1.000000</td>\n",
       "    </tr>\n",
       "  </tbody>\n",
       "</table>\n",
       "</div>"
      ],
      "text/plain": [
       "                       area  eccentricity  major_axis_length  \\\n",
       "area               1.000000     -0.486446          -0.253450   \n",
       "eccentricity      -0.486446      1.000000           0.839921   \n",
       "major_axis_length -0.253450      0.839921           1.000000   \n",
       "minor_axis_length  0.893979     -0.795416          -0.622217   \n",
       "label              0.081858     -0.759126          -0.830351   \n",
       "\n",
       "                   minor_axis_length     label  \n",
       "area                        0.893979  0.081858  \n",
       "eccentricity               -0.795416 -0.759126  \n",
       "major_axis_length          -0.622217 -0.830351  \n",
       "minor_axis_length           1.000000  0.450792  \n",
       "label                       0.450792  1.000000  "
      ]
     },
     "execution_count": 76,
     "metadata": {},
     "output_type": "execute_result"
    }
   ],
   "source": [
    "df.corr()"
   ]
  },
  {
   "cell_type": "code",
   "execution_count": 77,
   "metadata": {},
   "outputs": [
    {
     "data": {
      "image/png": "[encoded data removed]",
      "text/plain": [
       "<Figure size 864x720 with 2 Axes>"
      ]
     },
     "metadata": {
      "needs_background": "light"
     },
     "output_type": "display_data"
    }
   ],
   "source": [
    "plt.figure(figsize=(12,10))\n",
    "sns.heatmap(df.corr(), cmap=\"RdBu_r\",annot=True)\n",
    "\n",
    "plt.title('Correlation between Numeric Variables')\n",
    "plt.show()"
   ]
  },
  {
   "cell_type": "markdown",
   "metadata": {},
   "source": [
    "### Splitting Data"
   ]
  },
  {
   "cell_type": "code",
   "execution_count": 78,
   "metadata": {},
   "outputs": [],
   "source": [
    "from sklearn.model_selection import train_test_split"
   ]
  },
  {
   "cell_type": "code",
   "execution_count": 79,
   "metadata": {},
   "outputs": [],
   "source": [
    "X = df.iloc[:, :-1].values"
   ]
  },
  {
   "cell_type": "code",
   "execution_count": 80,
   "metadata": {},
   "outputs": [],
   "source": [
    "y = df.iloc[:, -1]"
   ]
  },
  {
   "cell_type": "code",
   "execution_count": 81,
   "metadata": {},
   "outputs": [],
   "source": [
    "X_train, X_test, y_train, y_test = train_test_split(X, y, test_size = 0.1, random_state = 0)"
   ]
  },
  {
   "cell_type": "markdown",
   "metadata": {},
   "source": [
    "### Scaling Data"
   ]
  },
  {
   "cell_type": "code",
   "execution_count": 82,
   "metadata": {},
   "outputs": [],
   "source": [
    "from sklearn.preprocessing import StandardScaler\n",
    "sc = StandardScaler()\n",
    "X_train = sc.fit_transform(X_train)\n",
    "X_test = sc.transform(X_test)"
   ]
  },
  {
   "cell_type": "markdown",
   "metadata": {},
   "source": [
    "# kNN Model"
   ]
  },
  {
   "cell_type": "code",
   "execution_count": 83,
   "metadata": {},
   "outputs": [
    {
     "name": "stdout",
     "output_type": "stream",
     "text": [
      " 3 nn score: 0.6923076923076923 \n"
     ]
    }
   ],
   "source": [
    "from sklearn.neighbors import KNeighborsClassifier\n",
    "k = 3\n",
    "knn = KNeighborsClassifier(n_neighbors = k, metric = 'minkowski')\n",
    "knn.fit(X_train,y_train)\n",
    "print(\" {} nn score: {} \".format(k,knn.score(X_test,y_test)))"
   ]
  },
  {
   "cell_type": "code",
   "execution_count": 84,
   "metadata": {},
   "outputs": [],
   "source": [
    "y_pred = knn.predict(X_test)\n",
    "y_true = y_test"
   ]
  },
  {
   "cell_type": "code",
   "execution_count": 85,
   "metadata": {},
   "outputs": [
    {
     "data": {
      "image/png": "[encoded data removed]",
      "text/plain": [
       "<Figure size 360x360 with 2 Axes>"
      ]
     },
     "metadata": {
      "needs_background": "light"
     },
     "output_type": "display_data"
    }
   ],
   "source": [
    "from sklearn.metrics import confusion_matrix\n",
    "cm = confusion_matrix(y_true,y_pred)\n",
    "\n",
    "#visualization\n",
    "import seaborn as sns\n",
    "import matplotlib.pyplot as plt\n",
    "\n",
    "f, ax = plt.subplots(figsize =(5,5))\n",
    "sns.heatmap(cm,annot = True,linewidths=0.5,linecolor=\"red\",fmt = \".0f\",ax=ax)\n",
    "plt.xlabel(\"True\")\n",
    "plt.ylabel(\"Predicted\")\n",
    "plt.show()"
   ]
  },
  {
   "cell_type": "code",
   "execution_count": 86,
   "metadata": {},
   "outputs": [
    {
     "name": "stdout",
     "output_type": "stream",
     "text": [
      "K0 = 0.38461538461538464\n",
      "K1 = 0.6923076923076923\n",
      "K2 = 0.5384615384615384\n",
      "K3 = 0.46153846153846156\n",
      "K4 = 0.38461538461538464\n",
      "K5 = 0.3333333333333333\n",
      "K6 = 0.5\n",
      "K7 = 0.4166666666666667\n",
      "K8 = 0.5833333333333334\n",
      "K9 = 0.3333333333333333\n",
      "\n",
      "average accuracy:  0.4628205128205128\n",
      "average std:  0.11053929125538395\n"
     ]
    }
   ],
   "source": [
    "#K fold CV K = 10\n",
    "from sklearn.model_selection import cross_val_score\n",
    "accuracies = cross_val_score(knn,X,y, cv = 10)\n",
    "\n",
    "for i in range(len(accuracies)):\n",
    "  print(\"K{} = {}\".format(i, accuracies[i]))\n",
    "\n",
    "print(\"\\naverage accuracy: \",np.mean(accuracies))\n",
    "print(\"average std: \",np.std(accuracies))"
   ]
  },
  {
   "cell_type": "code",
   "execution_count": 87,
   "metadata": {},
   "outputs": [
    {
     "name": "stdout",
     "output_type": "stream",
     "text": [
      "KNN Classifier report: \n",
      "\n",
      "               precision    recall  f1-score   support\n",
      "\n",
      "           0       1.00      1.00      1.00         4\n",
      "           1       0.25      1.00      0.40         1\n",
      "           2       1.00      0.33      0.50         3\n",
      "           3       0.50      1.00      0.67         1\n",
      "           4       1.00      0.50      0.67         4\n",
      "\n",
      "    accuracy                           0.69        13\n",
      "   macro avg       0.75      0.77      0.65        13\n",
      "weighted avg       0.90      0.69      0.71        13\n",
      "\n"
     ]
    }
   ],
   "source": [
    "y_pred_knn = knn.predict(X_test)\n",
    "print(\"KNN Classifier report: \\n\\n\", classification_report(y_test, y_pred_knn))"
   ]
  },
  {
   "cell_type": "markdown",
   "metadata": {},
   "source": [
    "### Find Best K Value"
   ]
  },
  {
   "cell_type": "code",
   "execution_count": 88,
   "metadata": {},
   "outputs": [],
   "source": [
    "error_rate=[]#list that will store the average error rate value of k\n",
    "acc_rate = []\n",
    "for i in range (1,11):  #Took the range of k from 1 to 30\n",
    "    clf=KNeighborsClassifier(n_neighbors=i)\n",
    "    clf.fit(X_train,y_train)\n",
    "    predict_i=clf.predict(X_test)\n",
    "    score = clf.score(X_test, y_test)\n",
    "    acc_rate.append(score)\n",
    "    error_rate.append(np.mean(predict_i!=y_test))"
   ]
  },
  {
   "cell_type": "code",
   "execution_count": 89,
   "metadata": {},
   "outputs": [
    {
     "data": {
      "image/png": "[encoded data removed]",
      "text/plain": [
       "<Figure size 864x432 with 1 Axes>"
      ]
     },
     "metadata": {
      "needs_background": "light"
     },
     "output_type": "display_data"
    }
   ],
   "source": [
    "#plotting the error rate vs k graph \n",
    "plt.figure(figsize=(12,6))\n",
    "plt.plot(range(1,11),acc_rate,label=\"Accuracy\",marker=\"o\",markerfacecolor=\"green\", linestyle=\"dashed\",color=\"red\",markersize=15)\n",
    "plt.plot(range(1,11),error_rate,label=\"Error\",marker=\"o\",markerfacecolor=\"red\", linestyle=\"dashed\",color=\"red\",markersize=15)\n",
    "plt.title(\"Error Rate and Acc Rate vs Value\",fontsize=20)\n",
    "plt.xlabel(\"k- Values\",fontsize=20)\n",
    "plt.ylabel(\"Value\",fontsize=20)\n",
    "plt.xticks(range(1,11))\n",
    "plt.legend()\n",
    "plt.show()"
   ]
  },
  {
   "cell_type": "markdown",
   "metadata": {},
   "source": [
    "### Rebuild Best Model"
   ]
  },
  {
   "cell_type": "code",
   "execution_count": 90,
   "metadata": {},
   "outputs": [
    {
     "name": "stdout",
     "output_type": "stream",
     "text": [
      " 6 nn score: 0.7692307692307693 \n"
     ]
    }
   ],
   "source": [
    "from sklearn.neighbors import KNeighborsClassifier\n",
    "k = 6\n",
    "knn_best = KNeighborsClassifier(n_neighbors = k)\n",
    "knn_best.fit(X_train,y_train)\n",
    "print(\" {} nn score: {} \".format(k,knn_best.score(X_test,y_test)))"
   ]
  },
  {
   "cell_type": "code",
   "execution_count": 91,
   "metadata": {},
   "outputs": [],
   "source": [
    "y_pred2 = knn_best.predict(X_test)\n",
    "y_true = y_test"
   ]
  },
  {
   "cell_type": "code",
   "execution_count": 92,
   "metadata": {},
   "outputs": [
    {
     "data": {
      "image/png": "[encoded data removed]",
      "text/plain": [
       "<Figure size 360x360 with 2 Axes>"
      ]
     },
     "metadata": {
      "needs_background": "light"
     },
     "output_type": "display_data"
    }
   ],
   "source": [
    "from sklearn.metrics import confusion_matrix\n",
    "cm2 = confusion_matrix(y_true,y_pred2)\n",
    "\n",
    "#visualization\n",
    "import seaborn as sns\n",
    "import matplotlib.pyplot as plt\n",
    "\n",
    "f, ax = plt.subplots(figsize =(5,5))\n",
    "sns.heatmap(cm2,annot = True,linewidths=0.5,linecolor=\"red\",fmt = \".0f\",ax=ax)\n",
    "plt.xlabel(\"True\")\n",
    "plt.ylabel(\"Predicted\")\n",
    "plt.show()"
   ]
  },
  {
   "cell_type": "code",
   "execution_count": 93,
   "metadata": {},
   "outputs": [
    {
     "name": "stdout",
     "output_type": "stream",
     "text": [
      "K0 = 0.5384615384615384\n",
      "K1 = 0.7692307692307693\n",
      "K2 = 0.46153846153846156\n",
      "K3 = 0.5384615384615384\n",
      "K4 = 0.15384615384615385\n",
      "K5 = 0.3333333333333333\n",
      "K6 = 0.5\n",
      "K7 = 0.5\n",
      "K8 = 0.5833333333333334\n",
      "K9 = 0.3333333333333333\n",
      "\n",
      "average accuracy:  0.4711538461538461\n",
      "average std:  0.1584059835400853\n"
     ]
    }
   ],
   "source": [
    "#K fold CV K = 10\n",
    "from sklearn.model_selection import cross_val_score\n",
    "accuracies2 = cross_val_score(knn_best,X,y, cv = 10)\n",
    "\n",
    "for i in range(len(accuracies2)):\n",
    "  print(\"K{} = {}\".format(i, accuracies2[i]))\n",
    "\n",
    "print(\"\\naverage accuracy: \",np.mean(accuracies2))\n",
    "print(\"average std: \",np.std(accuracies2))"
   ]
  },
  {
   "cell_type": "code",
   "execution_count": 94,
   "metadata": {},
   "outputs": [
    {
     "name": "stdout",
     "output_type": "stream",
     "text": [
      "KNN Classifier report: \n",
      "\n",
      "               precision    recall  f1-score   support\n",
      "\n",
      "           0       1.00      1.00      1.00         4\n",
      "           1       0.33      1.00      0.50         1\n",
      "           2       1.00      0.67      0.80         3\n",
      "           3       0.50      1.00      0.67         1\n",
      "           4       1.00      0.50      0.67         4\n",
      "\n",
      "    accuracy                           0.77        13\n",
      "   macro avg       0.77      0.83      0.73        13\n",
      "weighted avg       0.91      0.77      0.79        13\n",
      "\n"
     ]
    }
   ],
   "source": [
    "y_pred_knn2 = knn_best.predict(X_test)\n",
    "print(\"KNN Classifier report: \\n\\n\", classification_report(y_test, y_pred_knn2))"
   ]
  },
  {
   "cell_type": "markdown",
   "metadata": {},
   "source": [
    "# Saving Best Model"
   ]
  },
  {
   "cell_type": "code",
   "execution_count": 103,
   "metadata": {},
   "outputs": [],
   "source": [
    "import pickle"
   ]
  },
  {
   "cell_type": "code",
   "execution_count": 104,
   "metadata": {},
   "outputs": [],
   "source": [
    "filename = 'knn_best_model.sav'"
   ]
  },
  {
   "cell_type": "code",
   "execution_count": 116,
   "metadata": {},
   "outputs": [],
   "source": [
    "# pickle.dump(knn_best, open(filename, 'wb'))"
   ]
  },
  {
   "cell_type": "code",
   "execution_count": 117,
   "metadata": {},
   "outputs": [
    {
     "name": "stdout",
     "output_type": "stream",
     "text": [
      "0.7692307692307693\n"
     ]
    }
   ],
   "source": [
    "loaded_model = pickle.load(open(filename, 'rb'))\n",
    "result = loaded_model.score(X_test, y_test)\n",
    "print(result) "
   ]
  },
  {
   "cell_type": "markdown",
   "metadata": {},
   "source": [
    "# Testing with Some Input"
   ]
  },
  {
   "cell_type": "code",
   "execution_count": 118,
   "metadata": {},
   "outputs": [],
   "source": [
    "def predict_img(input_img, model):\n",
    "  X_input = sc.transform(input_img)\n",
    "  pred_input = model.predict(X_input)\n",
    "  return pred_input"
   ]
  },
  {
   "cell_type": "code",
   "execution_count": 130,
   "metadata": {},
   "outputs": [],
   "source": [
    "image_path = \"input/CL-S-009.png\""
   ]
  },
  {
   "cell_type": "code",
   "execution_count": 133,
   "metadata": {},
   "outputs": [
    {
     "name": "stderr",
     "output_type": "stream",
     "text": [
      "<ipython-input-133-7f67d451e415>:1: FutureWarning: Non RGB image conversion is now deprecated. For RGBA images, please use rgb2gray(rgba2rgb(rgb)) instead. In version 0.19, a ValueError will be raised if input image last dimension length is not 3.\n",
      "  image = rgb2gray(imread(image_path))\n"
     ]
    },
    {
     "data": {
      "text/plain": [
       "<matplotlib.image.AxesImage at 0x1d61f19a340>"
      ]
     },
     "execution_count": 133,
     "metadata": {},
     "output_type": "execute_result"
    },
    {
     "data": {
      "image/png": "[encoded data removed]",
      "text/plain": [
       "<Figure size 432x288 with 1 Axes>"
      ]
     },
     "metadata": {
      "needs_background": "light"
     },
     "output_type": "display_data"
    }
   ],
   "source": [
    "image = rgb2gray(imread(image_path))\n",
    "imshow(image)"
   ]
  },
  {
   "cell_type": "code",
   "execution_count": 135,
   "metadata": {},
   "outputs": [
    {
     "data": {
      "text/html": [
       "<div>\n",
       "<style scoped>\n",
       "    .dataframe tbody tr th:only-of-type {\n",
       "        vertical-align: middle;\n",
       "    }\n",
       "\n",
       "    .dataframe tbody tr th {\n",
       "        vertical-align: top;\n",
       "    }\n",
       "\n",
       "    .dataframe thead th {\n",
       "        text-align: right;\n",
       "    }\n",
       "</style>\n",
       "<table border=\"1\" class=\"dataframe\">\n",
       "  <thead>\n",
       "    <tr style=\"text-align: right;\">\n",
       "      <th></th>\n",
       "      <th>area</th>\n",
       "      <th>eccentricity</th>\n",
       "      <th>major_axis_length</th>\n",
       "      <th>minor_axis_length</th>\n",
       "    </tr>\n",
       "  </thead>\n",
       "  <tbody>\n",
       "    <tr>\n",
       "      <th>0</th>\n",
       "      <td>1191</td>\n",
       "      <td>1.00000</td>\n",
       "      <td>1375.247856</td>\n",
       "      <td>0.000000</td>\n",
       "    </tr>\n",
       "    <tr>\n",
       "      <th>1</th>\n",
       "      <td>655900</td>\n",
       "      <td>0.64512</td>\n",
       "      <td>1049.184479</td>\n",
       "      <td>801.661884</td>\n",
       "    </tr>\n",
       "  </tbody>\n",
       "</table>\n",
       "</div>"
      ],
      "text/plain": [
       "     area  eccentricity  major_axis_length  minor_axis_length\n",
       "0    1191       1.00000        1375.247856           0.000000\n",
       "1  655900       0.64512        1049.184479         801.661884"
      ]
     },
     "execution_count": 135,
     "metadata": {},
     "output_type": "execute_result"
    }
   ],
   "source": [
    "label_img = label(image)\n",
    "\n",
    "table = pd.DataFrame(regionprops_table(label_img, image,\n",
    "                        ['area', 'eccentricity',                         \n",
    "                        'major_axis_length', 'minor_axis_length']))\n",
    "\n",
    "input_img = table.copy()\n",
    "input_img.head()"
   ]
  },
  {
   "cell_type": "code",
   "execution_count": 136,
   "metadata": {},
   "outputs": [],
   "source": [
    "X_input = input_img.loc[[1]].values"
   ]
  },
  {
   "cell_type": "code",
   "execution_count": 137,
   "metadata": {},
   "outputs": [
    {
     "data": {
      "text/plain": [
       "array([[6.55900000e+05, 6.45120366e-01, 1.04918448e+03, 8.01661884e+02]])"
      ]
     },
     "execution_count": 137,
     "metadata": {},
     "output_type": "execute_result"
    }
   ],
   "source": [
    "X_input"
   ]
  },
  {
   "cell_type": "code",
   "execution_count": 138,
   "metadata": {},
   "outputs": [],
   "source": [
    "pred_input = predict_img(X_input, loaded_model)"
   ]
  },
  {
   "cell_type": "code",
   "execution_count": 139,
   "metadata": {},
   "outputs": [
    {
     "name": "stdout",
     "output_type": "stream",
     "text": [
      "Hasil Prediksi - input/CL-S-009.png\n",
      "[1] - CL\n"
     ]
    }
   ],
   "source": [
    "print(\"Hasil Prediksi - {}\".format(image_path))\n",
    "print(\"{} - {}\".format(pred_input, info[pred_input[0]]))"
   ]
  },
  {
   "cell_type": "code",
   "execution_count": null,
   "metadata": {},
   "outputs": [],
   "source": []
  }
 ],
 "metadata": {
  "kernelspec": {
   "display_name": "Python 3",
   "language": "python",
   "name": "python3"
  },
  "language_info": {
   "codemirror_mode": {
    "name": "ipython",
    "version": 3
   },
   "file_extension": ".py",
   "mimetype": "text/x-python",
   "name": "python",
   "nbconvert_exporter": "python",
   "pygments_lexer": "ipython3",
   "version": "3.8.5"
  },
  "vscode": {
   "interpreter": {
    "hash": "8cd9e4c32aa76832852086c9875b9f3c663db4c35eeef0c90fdf73d61f5b1b52"
   }
  }
 },
 "nbformat": 4,
 "nbformat_minor": 2
}
